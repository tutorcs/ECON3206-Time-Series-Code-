{
    "metadata": {
        "kernelspec": {
            "name": "python3",
            "display_name": "Python 3",
            "language": "python"
        }
    },
    "nbformat": 4,
    "nbformat_minor": 4,
    "cells": [
        {
            "attachments": {},
            "cell_type": "markdown",
            "metadata": {},
            "source": [
                "$\\textbf{Importing packages}$"
            ]
        },
        {
            "cell_type": "code",
            "execution_count": 2,
            "metadata": {},
            "outputs": [],
            "source": [
                "#importing packages\n",
                "import statsmodels.api as sm\n",
                "from statsmodels.tsa.stattools import adfuller\n",
                "import pandas as pd\n",
                "import numpy as np\n",
                "import statsmodels.formula.api as smf\n",
                "from sklearn import linear_model\n",
                "import matplotlib.pyplot as plt\n",
                "import datetime"
            ]
        },
        {
            "attachments": {},
            "cell_type": "markdown",
            "metadata": {},
            "source": [
                " $\\textbf{Reading Excel file saved in hard drive}$"
            ]
        },
        {
            "cell_type": "code",
            "execution_count": 3,
            "metadata": {},
            "outputs": [
                {
                    "data": {
                        "text/html": [
                            "\u003cdiv\u003e\n",
                            "\u003cstyle scoped\u003e\n",
                            "    .dataframe tbody tr th:only-of-type {\n",
                            "        vertical-align: middle;\n",
                            "    }\n",
                            "\n",
                            "    .dataframe tbody tr th {\n",
                            "        vertical-align: top;\n",
                            "    }\n",
                            "\n",
                            "    .dataframe thead th {\n",
                            "        text-align: right;\n",
                            "    }\n",
                            "\u003c/style\u003e\n",
                            "\u003ctable border=\"1\" class=\"dataframe\"\u003e\n",
                            "  \u003cthead\u003e\n",
                            "    \u003ctr style=\"text-align: right;\"\u003e\n",
                            "      \u003cth\u003e\u003c/th\u003e\n",
                            "      \u003cth\u003eOBS\u003c/th\u003e\n",
                            "      \u003cth\u003ePRICE\u003c/th\u003e\n",
                            "    \u003c/tr\u003e\n",
                            "  \u003c/thead\u003e\n",
                            "  \u003ctbody\u003e\n",
                            "    \u003ctr\u003e\n",
                            "      \u003cth\u003e0\u003c/th\u003e\n",
                            "      \u003ctd\u003e1\u003c/td\u003e\n",
                            "      \u003ctd\u003e975.04\u003c/td\u003e\n",
                            "    \u003c/tr\u003e\n",
                            "    \u003ctr\u003e\n",
                            "      \u003cth\u003e1\u003c/th\u003e\n",
                            "      \u003ctd\u003e2\u003c/td\u003e\n",
                            "      \u003ctd\u003e977.07\u003c/td\u003e\n",
                            "    \u003c/tr\u003e\n",
                            "    \u003ctr\u003e\n",
                            "      \u003cth\u003e2\u003c/th\u003e\n",
                            "      \u003ctd\u003e3\u003c/td\u003e\n",
                            "      \u003ctd\u003e966.58\u003c/td\u003e\n",
                            "    \u003c/tr\u003e\n",
                            "    \u003ctr\u003e\n",
                            "      \u003cth\u003e3\u003c/th\u003e\n",
                            "      \u003ctd\u003e4\u003c/td\u003e\n",
                            "      \u003ctd\u003e964.00\u003c/td\u003e\n",
                            "    \u003c/tr\u003e\n",
                            "    \u003ctr\u003e\n",
                            "      \u003cth\u003e4\u003c/th\u003e\n",
                            "      \u003ctd\u003e5\u003c/td\u003e\n",
                            "      \u003ctd\u003e956.05\u003c/td\u003e\n",
                            "    \u003c/tr\u003e\n",
                            "    \u003ctr\u003e\n",
                            "      \u003cth\u003e...\u003c/th\u003e\n",
                            "      \u003ctd\u003e...\u003c/td\u003e\n",
                            "      \u003ctd\u003e...\u003c/td\u003e\n",
                            "    \u003c/tr\u003e\n",
                            "    \u003ctr\u003e\n",
                            "      \u003cth\u003e989\u003c/th\u003e\n",
                            "      \u003ctd\u003e990\u003c/td\u003e\n",
                            "      \u003ctd\u003e1144.80\u003c/td\u003e\n",
                            "    \u003c/tr\u003e\n",
                            "    \u003ctr\u003e\n",
                            "      \u003cth\u003e990\u003c/th\u003e\n",
                            "      \u003ctd\u003e991\u003c/td\u003e\n",
                            "      \u003ctd\u003e1170.35\u003c/td\u003e\n",
                            "    \u003c/tr\u003e\n",
                            "    \u003ctr\u003e\n",
                            "      \u003cth\u003e991\u003c/th\u003e\n",
                            "      \u003ctd\u003e992\u003c/td\u003e\n",
                            "      \u003ctd\u003e1167.10\u003c/td\u003e\n",
                            "    \u003c/tr\u003e\n",
                            "    \u003ctr\u003e\n",
                            "      \u003cth\u003e992\u003c/th\u003e\n",
                            "      \u003ctd\u003e993\u003c/td\u003e\n",
                            "      \u003ctd\u003e1158.31\u003c/td\u003e\n",
                            "    \u003c/tr\u003e\n",
                            "    \u003ctr\u003e\n",
                            "      \u003cth\u003e993\u003c/th\u003e\n",
                            "      \u003ctd\u003e994\u003c/td\u003e\n",
                            "      \u003ctd\u003e1139.93\u003c/td\u003e\n",
                            "    \u003c/tr\u003e\n",
                            "  \u003c/tbody\u003e\n",
                            "\u003c/table\u003e\n",
                            "\u003cp\u003e994 rows × 2 columns\u003c/p\u003e\n",
                            "\u003c/div\u003e"
                        ],
                        "text/plain": [
                            "     OBS    PRICE\n",
                            "0      1   975.04\n",
                            "1      2   977.07\n",
                            "2      3   966.58\n",
                            "3      4   964.00\n",
                            "4      5   956.05\n",
                            "..   ...      ...\n",
                            "989  990  1144.80\n",
                            "990  991  1170.35\n",
                            "991  992  1167.10\n",
                            "992  993  1158.31\n",
                            "993  994  1139.93\n",
                            "\n",
                            "[994 rows x 2 columns]"
                        ]
                    },
                    "execution_count": 3,
                    "metadata": {},
                    "output_type": "execute_result"
                }
            ],
            "source": [
                "#reading the file\n",
                "df = pd.read_excel(\"share.xlsx\")\n",
                "df"
            ]
        },
        {
            "attachments": {},
            "cell_type": "markdown",
            "metadata": {},
            "source": [
                "$\\textbf{Calculating daily returns and daily squared returns from SP500}$"
            ]
        },
        {
            "attachments": {},
            "cell_type": "markdown",
            "metadata": {},
            "source": [
                "Daily returns (R)\n",
                "    $$R = 100*ln(P_t/P_{t-1})$$"
            ]
        },
        {
            "cell_type": "code",
            "execution_count": 4,
            "metadata": {},
            "outputs": [
                {
                    "data": {
                        "text/html": [
                            "\u003cdiv\u003e\n",
                            "\u003cstyle scoped\u003e\n",
                            "    .dataframe tbody tr th:only-of-type {\n",
                            "        vertical-align: middle;\n",
                            "    }\n",
                            "\n",
                            "    .dataframe tbody tr th {\n",
                            "        vertical-align: top;\n",
                            "    }\n",
                            "\n",
                            "    .dataframe thead th {\n",
                            "        text-align: right;\n",
                            "    }\n",
                            "\u003c/style\u003e\n",
                            "\u003ctable border=\"1\" class=\"dataframe\"\u003e\n",
                            "  \u003cthead\u003e\n",
                            "    \u003ctr style=\"text-align: right;\"\u003e\n",
                            "      \u003cth\u003e\u003c/th\u003e\n",
                            "      \u003cth\u003eOBS\u003c/th\u003e\n",
                            "      \u003cth\u003ePRICE\u003c/th\u003e\n",
                            "      \u003cth\u003eR\u003c/th\u003e\n",
                            "    \u003c/tr\u003e\n",
                            "  \u003c/thead\u003e\n",
                            "  \u003ctbody\u003e\n",
                            "    \u003ctr\u003e\n",
                            "      \u003cth\u003e1\u003c/th\u003e\n",
                            "      \u003ctd\u003e2\u003c/td\u003e\n",
                            "      \u003ctd\u003e977.07\u003c/td\u003e\n",
                            "      \u003ctd\u003e0.207980\u003c/td\u003e\n",
                            "    \u003c/tr\u003e\n",
                            "    \u003ctr\u003e\n",
                            "      \u003cth\u003e2\u003c/th\u003e\n",
                            "      \u003ctd\u003e3\u003c/td\u003e\n",
                            "      \u003ctd\u003e966.58\u003c/td\u003e\n",
                            "      \u003ctd\u003e-1.079423\u003c/td\u003e\n",
                            "    \u003c/tr\u003e\n",
                            "    \u003ctr\u003e\n",
                            "      \u003cth\u003e3\u003c/th\u003e\n",
                            "      \u003ctd\u003e4\u003c/td\u003e\n",
                            "      \u003ctd\u003e964.00\u003c/td\u003e\n",
                            "      \u003ctd\u003e-0.267277\u003c/td\u003e\n",
                            "    \u003c/tr\u003e\n",
                            "    \u003ctr\u003e\n",
                            "      \u003cth\u003e4\u003c/th\u003e\n",
                            "      \u003ctd\u003e5\u003c/td\u003e\n",
                            "      \u003ctd\u003e956.05\u003c/td\u003e\n",
                            "      \u003ctd\u003e-0.828108\u003c/td\u003e\n",
                            "    \u003c/tr\u003e\n",
                            "    \u003ctr\u003e\n",
                            "      \u003cth\u003e5\u003c/th\u003e\n",
                            "      \u003ctd\u003e6\u003c/td\u003e\n",
                            "      \u003ctd\u003e927.69\u003c/td\u003e\n",
                            "      \u003ctd\u003e-3.011259\u003c/td\u003e\n",
                            "    \u003c/tr\u003e\n",
                            "    \u003ctr\u003e\n",
                            "      \u003cth\u003e...\u003c/th\u003e\n",
                            "      \u003ctd\u003e...\u003c/td\u003e\n",
                            "      \u003ctd\u003e...\u003c/td\u003e\n",
                            "      \u003ctd\u003e...\u003c/td\u003e\n",
                            "    \u003c/tr\u003e\n",
                            "    \u003ctr\u003e\n",
                            "      \u003cth\u003e989\u003c/th\u003e\n",
                            "      \u003ctd\u003e990\u003c/td\u003e\n",
                            "      \u003ctd\u003e1144.80\u003c/td\u003e\n",
                            "      \u003ctd\u003e1.310082\u003c/td\u003e\n",
                            "    \u003c/tr\u003e\n",
                            "    \u003ctr\u003e\n",
                            "      \u003cth\u003e990\u003c/th\u003e\n",
                            "      \u003ctd\u003e991\u003c/td\u003e\n",
                            "      \u003ctd\u003e1170.35\u003c/td\u003e\n",
                            "      \u003ctd\u003e2.207290\u003c/td\u003e\n",
                            "    \u003c/tr\u003e\n",
                            "    \u003ctr\u003e\n",
                            "      \u003cth\u003e991\u003c/th\u003e\n",
                            "      \u003ctd\u003e992\u003c/td\u003e\n",
                            "      \u003ctd\u003e1167.10\u003c/td\u003e\n",
                            "      \u003ctd\u003e-0.278081\u003c/td\u003e\n",
                            "    \u003c/tr\u003e\n",
                            "    \u003ctr\u003e\n",
                            "      \u003cth\u003e992\u003c/th\u003e\n",
                            "      \u003ctd\u003e993\u003c/td\u003e\n",
                            "      \u003ctd\u003e1158.31\u003c/td\u003e\n",
                            "      \u003ctd\u003e-0.755999\u003c/td\u003e\n",
                            "    \u003c/tr\u003e\n",
                            "    \u003ctr\u003e\n",
                            "      \u003cth\u003e993\u003c/th\u003e\n",
                            "      \u003ctd\u003e994\u003c/td\u003e\n",
                            "      \u003ctd\u003e1139.93\u003c/td\u003e\n",
                            "      \u003ctd\u003e-1.599519\u003c/td\u003e\n",
                            "    \u003c/tr\u003e\n",
                            "  \u003c/tbody\u003e\n",
                            "\u003c/table\u003e\n",
                            "\u003cp\u003e993 rows × 3 columns\u003c/p\u003e\n",
                            "\u003c/div\u003e"
                        ],
                        "text/plain": [
                            "     OBS    PRICE         R\n",
                            "1      2   977.07  0.207980\n",
                            "2      3   966.58 -1.079423\n",
                            "3      4   964.00 -0.267277\n",
                            "4      5   956.05 -0.828108\n",
                            "5      6   927.69 -3.011259\n",
                            "..   ...      ...       ...\n",
                            "989  990  1144.80  1.310082\n",
                            "990  991  1170.35  2.207290\n",
                            "991  992  1167.10 -0.278081\n",
                            "992  993  1158.31 -0.755999\n",
                            "993  994  1139.93 -1.599519\n",
                            "\n",
                            "[993 rows x 3 columns]"
                        ]
                    },
                    "execution_count": 4,
                    "metadata": {},
                    "output_type": "execute_result"
                }
            ],
            "source": [
                "#computing the inflation rate\n",
                "df['R'] = 100*np.log(df['PRICE']/df['PRICE'].shift(1))\n",
                "df = df.dropna(subset=[\"R\"])\n",
                "df"
            ]
        },
        {
            "cell_type": "code",
            "execution_count": 5,
            "metadata": {},
            "outputs": [
                {
                    "data": {
                        "text/html": [
                            "\u003cdiv\u003e\n",
                            "\u003cstyle scoped\u003e\n",
                            "    .dataframe tbody tr th:only-of-type {\n",
                            "        vertical-align: middle;\n",
                            "    }\n",
                            "\n",
                            "    .dataframe tbody tr th {\n",
                            "        vertical-align: top;\n",
                            "    }\n",
                            "\n",
                            "    .dataframe thead th {\n",
                            "        text-align: right;\n",
                            "    }\n",
                            "\u003c/style\u003e\n",
                            "\u003ctable border=\"1\" class=\"dataframe\"\u003e\n",
                            "  \u003cthead\u003e\n",
                            "    \u003ctr style=\"text-align: right;\"\u003e\n",
                            "      \u003cth\u003e\u003c/th\u003e\n",
                            "      \u003cth\u003eOBS\u003c/th\u003e\n",
                            "      \u003cth\u003ePRICE\u003c/th\u003e\n",
                            "      \u003cth\u003eR\u003c/th\u003e\n",
                            "    \u003c/tr\u003e\n",
                            "  \u003c/thead\u003e\n",
                            "  \u003ctbody\u003e\n",
                            "    \u003ctr\u003e\n",
                            "      \u003cth\u003e1\u003c/th\u003e\n",
                            "      \u003ctd\u003e2\u003c/td\u003e\n",
                            "      \u003ctd\u003e977.07\u003c/td\u003e\n",
                            "      \u003ctd\u003e0.207980\u003c/td\u003e\n",
                            "    \u003c/tr\u003e\n",
                            "    \u003ctr\u003e\n",
                            "      \u003cth\u003e2\u003c/th\u003e\n",
                            "      \u003ctd\u003e3\u003c/td\u003e\n",
                            "      \u003ctd\u003e966.58\u003c/td\u003e\n",
                            "      \u003ctd\u003e-1.079423\u003c/td\u003e\n",
                            "    \u003c/tr\u003e\n",
                            "    \u003ctr\u003e\n",
                            "      \u003cth\u003e3\u003c/th\u003e\n",
                            "      \u003ctd\u003e4\u003c/td\u003e\n",
                            "      \u003ctd\u003e964.00\u003c/td\u003e\n",
                            "      \u003ctd\u003e-0.267277\u003c/td\u003e\n",
                            "    \u003c/tr\u003e\n",
                            "    \u003ctr\u003e\n",
                            "      \u003cth\u003e4\u003c/th\u003e\n",
                            "      \u003ctd\u003e5\u003c/td\u003e\n",
                            "      \u003ctd\u003e956.05\u003c/td\u003e\n",
                            "      \u003ctd\u003e-0.828108\u003c/td\u003e\n",
                            "    \u003c/tr\u003e\n",
                            "    \u003ctr\u003e\n",
                            "      \u003cth\u003e5\u003c/th\u003e\n",
                            "      \u003ctd\u003e6\u003c/td\u003e\n",
                            "      \u003ctd\u003e927.69\u003c/td\u003e\n",
                            "      \u003ctd\u003e-3.011259\u003c/td\u003e\n",
                            "    \u003c/tr\u003e\n",
                            "    \u003ctr\u003e\n",
                            "      \u003cth\u003e...\u003c/th\u003e\n",
                            "      \u003ctd\u003e...\u003c/td\u003e\n",
                            "      \u003ctd\u003e...\u003c/td\u003e\n",
                            "      \u003ctd\u003e...\u003c/td\u003e\n",
                            "    \u003c/tr\u003e\n",
                            "    \u003ctr\u003e\n",
                            "      \u003cth\u003e896\u003c/th\u003e\n",
                            "      \u003ctd\u003e897\u003c/td\u003e\n",
                            "      \u003ctd\u003e1171.65\u003c/td\u003e\n",
                            "      \u003ctd\u003e-1.640547\u003c/td\u003e\n",
                            "    \u003c/tr\u003e\n",
                            "    \u003ctr\u003e\n",
                            "      \u003cth\u003e897\u003c/th\u003e\n",
                            "      \u003ctd\u003e898\u003c/td\u003e\n",
                            "      \u003ctd\u003e1190.49\u003c/td\u003e\n",
                            "      \u003ctd\u003e1.595198\u003c/td\u003e\n",
                            "    \u003c/tr\u003e\n",
                            "    \u003ctr\u003e\n",
                            "      \u003cth\u003e898\u003c/th\u003e\n",
                            "      \u003ctd\u003e899\u003c/td\u003e\n",
                            "      \u003ctd\u003e1202.93\u003c/td\u003e\n",
                            "      \u003ctd\u003e1.039526\u003c/td\u003e\n",
                            "    \u003c/tr\u003e\n",
                            "    \u003ctr\u003e\n",
                            "      \u003cth\u003e899\u003c/th\u003e\n",
                            "      \u003ctd\u003e900\u003c/td\u003e\n",
                            "      \u003ctd\u003e1205.82\u003c/td\u003e\n",
                            "      \u003ctd\u003e0.239959\u003c/td\u003e\n",
                            "    \u003c/tr\u003e\n",
                            "    \u003ctr\u003e\n",
                            "      \u003cth\u003e900\u003c/th\u003e\n",
                            "      \u003ctd\u003e901\u003c/td\u003e\n",
                            "      \u003ctd\u003e1204.52\u003c/td\u003e\n",
                            "      \u003ctd\u003e-0.107869\u003c/td\u003e\n",
                            "    \u003c/tr\u003e\n",
                            "  \u003c/tbody\u003e\n",
                            "\u003c/table\u003e\n",
                            "\u003cp\u003e900 rows × 3 columns\u003c/p\u003e\n",
                            "\u003c/div\u003e"
                        ],
                        "text/plain": [
                            "     OBS    PRICE         R\n",
                            "1      2   977.07  0.207980\n",
                            "2      3   966.58 -1.079423\n",
                            "3      4   964.00 -0.267277\n",
                            "4      5   956.05 -0.828108\n",
                            "5      6   927.69 -3.011259\n",
                            "..   ...      ...       ...\n",
                            "896  897  1171.65 -1.640547\n",
                            "897  898  1190.49  1.595198\n",
                            "898  899  1202.93  1.039526\n",
                            "899  900  1205.82  0.239959\n",
                            "900  901  1204.52 -0.107869\n",
                            "\n",
                            "[900 rows x 3 columns]"
                        ]
                    },
                    "execution_count": 5,
                    "metadata": {},
                    "output_type": "execute_result"
                }
            ],
            "source": [
                "#Selecting the first 900 observations as indicated in the question\n",
                "dt = df.iloc[0:900]\n",
                "dt"
            ]
        },
        {
            "cell_type": "code",
            "execution_count": 6,
            "metadata": {},
            "outputs": [],
            "source": [
                "dta = dt.R"
            ]
        },
        {
            "attachments": {},
            "cell_type": "markdown",
            "metadata": {},
            "source": [
                "$\\textbf{Plotting the time series: R and $R^2$}$"
            ]
        },
        {
            "cell_type": "code",
            "execution_count": 7,
            "metadata": {},
            "outputs": [
                {
                    "data": {
                        "image/png": "[encoded data removed]",
                        "text/plain": [
                            "\u003cFigure size 432x288 with 1 Axes\u003e"
                        ]
                    },
                    "metadata": {
                        "needs_background": "light"
                    },
                    "output_type": "display_data"
                }
            ],
            "source": [
                "#plotting the R series\n",
                "plt.plot(dt.R,label='R')\n",
                "plt.legend(loc='best', fontsize='large')\n",
                "plt.show()"
            ]
        },
        {
            "attachments": {},
            "cell_type": "markdown",
            "metadata": {},
            "source": [
                "$\\textbf{Histogram and descriptive statistics}$"
            ]
        },
        {
            "cell_type": "code",
            "execution_count": 8,
            "metadata": {},
            "outputs": [
                {
                    "data": {
                        "image/png": "[encoded data removed]",
                        "text/plain": [
                            "\u003cFigure size 432x288 with 1 Axes\u003e"
                        ]
                    },
                    "metadata": {
                        "needs_background": "light"
                    },
                    "output_type": "display_data"
                }
            ],
            "source": [
                "#Plot histogram of R\n",
                "plt.hist(dta,bins=120,label='R', density=True, alpha=0.6, color='b')\n",
                "plt.legend(loc='best', fontsize='large')\n",
                "plt.show()"
            ]
        },
        {
            "cell_type": "code",
            "execution_count": 9,
            "metadata": {},
            "outputs": [
                {
                    "data": {
                        "text/plain": [
                            "DescribeResult(nobs=900, minmax=(-7.043759037302043, 4.964596183505854), mean=0.023484214502210905, variance=1.69179462409061, skewness=-0.12386168453067394, kurtosis=2.0462044750974355)"
                        ]
                    },
                    "execution_count": 9,
                    "metadata": {},
                    "output_type": "execute_result"
                }
            ],
            "source": [
                "from scipy import stats\n",
                "stats.describe(dta)"
            ]
        },
        {
            "cell_type": "code",
            "execution_count": 10,
            "metadata": {},
            "outputs": [
                {
                    "data": {
                        "text/plain": [
                            "Jarque_beraResult(statistic=159.3119858057954, pvalue=0.0)"
                        ]
                    },
                    "execution_count": 10,
                    "metadata": {},
                    "output_type": "execute_result"
                }
            ],
            "source": [
                "stats.jarque_bera(dta)"
            ]
        },
        {
            "attachments": {},
            "cell_type": "markdown",
            "metadata": {},
            "source": [
                "$\\textbf{EGARCH(1,1)-M}$"
            ]
        },
        {
            "cell_type": "code",
            "execution_count": 11,
            "metadata": {},
            "outputs": [],
            "source": [
                "from arch import arch_model"
            ]
        },
        {
            "cell_type": "code",
            "execution_count": 12,
            "metadata": {},
            "outputs": [
                {
                    "name": "stderr",
                    "output_type": "stream",
                    "text": "C:\\Users\\rluck\\anaconda3\\lib\\site-packages\\arch\\univariate\\mean.py:506: FutureWarning: Support for multi-dimensional indexing (e.g. `obj[:, None]`) is deprecated and will be removed in a future version.  Convert to a numpy array before indexing instead.\n  self._x = self._x[:, None]\n"
                },
                {
                    "data": {
                        "text/plain": [
                            "                         AR-X - EGARCH Model Results                          \n",
                            "==============================================================================\n",
                            "Dep. Variable:                      R   R-squared:                       0.009\n",
                            "Mean Model:                      AR-X   Adj. R-squared:                  0.008\n",
                            "Vol Model:                     EGARCH   Log-Likelihood:               -1444.42\n",
                            "Distribution:                  Normal   AIC:                           2900.85\n",
                            "Method:            Maximum Likelihood   BIC:                           2929.66\n",
                            "                                        No. Observations:                  900\n",
                            "Date:                Thu, Aug 05 2021   Df Residuals:                      898\n",
                            "Time:                        18:09:27   Df Model:                            2\n",
                            "                                 Mean Model                                \n",
                            "===========================================================================\n",
                            "                 coef    std err          t      P\u003e|t|     95.0% Conf. Int.\n",
                            "---------------------------------------------------------------------------\n",
                            "Const         -0.1251  9.315e-02     -1.342      0.179  [ -0.308,5.753e-02]\n",
                            "x0             0.0932  6.302e-02      1.479      0.139 [-3.033e-02,  0.217]\n",
                            "                               Volatility Model                              \n",
                            "=============================================================================\n",
                            "                 coef    std err          t      P\u003e|t|       95.0% Conf. Int.\n",
                            "-----------------------------------------------------------------------------\n",
                            "omega          0.0311  2.310e-02      1.346      0.178 [-1.419e-02,7.636e-02]\n",
                            "alpha[1]       0.0814  3.743e-02      2.175  2.966e-02    [8.035e-03,  0.155]\n",
                            "gamma[1]      -0.1786  5.727e-02     -3.118  1.820e-03   [ -0.291,-6.633e-02]\n",
                            "beta[1]        0.9185  5.351e-02     17.165  4.813e-66      [  0.814,  1.023]\n",
                            "=============================================================================\n",
                            "\n",
                            "Covariance estimator: robust\n",
                            "ARCHModelResult, id: 0x2938fd3dcd0"
                        ]
                    },
                    "execution_count": 12,
                    "metadata": {},
                    "output_type": "execute_result"
                }
            ],
            "source": [
                "#EGARCH(1,1)\n",
                "model = arch_model(dta,mean ='Constant', vol ='EGARCH', p=1, o=1, q=1)\n",
                "egarch =model.fit(disp='off')\n",
                "#defining EGARCH's conditional volatility\n",
                "dt_3 =egarch.conditional_volatility**2\n",
                "#EGARCH(1,1)-M\n",
                "model_1= arch_model(dta, x= dt_3, mean ='ARX', vol ='EGARCH', p=1, o=1, q=1)\n",
                "egarch_m=model_1.fit(disp='off')\n",
                "egarch_m"
            ]
        },
        {
            "attachments": {},
            "cell_type": "markdown",
            "metadata": {},
            "source": [
                "$\\textbf{Value-at-Risk(VaR)}$"
            ]
        },
        {
            "cell_type": "code",
            "execution_count": 13,
            "metadata": {},
            "outputs": [],
            "source": [
                "\n",
                "#Standardised residuals\n",
                "std_resid =egarch_m.resid/egarch_m.conditional_volatility\n",
                ""
            ]
        },
        {
            "cell_type": "code",
            "execution_count": 14,
            "metadata": {},
            "outputs": [
                {
                    "data": {
                        "text/plain": [
                            "-2.42956284343608"
                        ]
                    },
                    "execution_count": 14,
                    "metadata": {},
                    "output_type": "execute_result"
                }
            ],
            "source": [
                "q =  std_resid.quantile(0.01)\n",
                "q"
            ]
        },
        {
            "cell_type": "code",
            "execution_count": 15,
            "metadata": {},
            "outputs": [],
            "source": [
                "#volatility\n",
                "cond_vol = egarch_m.conditional_volatility\n",
                "cond_var= cond_vol**2\n",
                "#Mean\n",
                "cond_mean= egarch_m.params['Const']+ egarch_m.params['x0']*cond_vol**2"
            ]
        },
        {
            "attachments": {},
            "cell_type": "markdown",
            "metadata": {},
            "source": [
                "$\\textbf{VaR = (c+ $q_{0.01}\\sigma_{t+1})\\times$ P/100}$"
            ]
        },
        {
            "cell_type": "code",
            "execution_count": 17,
            "metadata": {},
            "outputs": [
                {
                    "data": {
                        "text/plain": [
                            "900    304603.986088\n",
                            "Name: cond_vol, dtype: float64"
                        ]
                    },
                    "execution_count": 17,
                    "metadata": {},
                    "output_type": "execute_result"
                }
            ],
            "source": [
                "P = 10000000\n",
                "VaR = -(cond_mean+np.sqrt(cond_var)*q)*P/100\n",
                "VaR.tail(1)"
            ]
        },
        {
            "cell_type": "code",
            "execution_count": 0,
            "metadata": {},
            "outputs": [],
            "source": [
                ""
            ]
        }
    ]
}
