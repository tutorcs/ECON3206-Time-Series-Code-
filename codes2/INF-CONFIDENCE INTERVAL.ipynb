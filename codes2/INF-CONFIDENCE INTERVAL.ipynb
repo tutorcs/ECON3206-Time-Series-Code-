{
    "metadata": {
        "kernelspec": {
            "name": "python3",
            "display_name": "Python 3",
            "language": "python"
        }
    },
    "nbformat": 4,
    "nbformat_minor": 4,
    "cells": [
        {
            "attachments": {},
            "cell_type": "markdown",
            "metadata": {},
            "source": [
                "# Importing packages"
            ]
        },
        {
            "cell_type": "code",
            "execution_count": 2,
            "metadata": {},
            "outputs": [],
            "source": [
                "#importing packages\n",
                "import statsmodels.api as sm\n",
                "from statsmodels.tsa.stattools import adfuller\n",
                "import pandas as pd\n",
                "import numpy as np\n",
                "import statsmodels.formula.api as smf\n",
                "from sklearn import linear_model\n",
                "import matplotlib.pyplot as plt\n",
                "from statsmodels.tsa.arima.model import ARIMA"
            ]
        },
        {
            "attachments": {},
            "cell_type": "markdown",
            "metadata": {},
            "source": [
                "# Reading Excel file saved in hard drive"
            ]
        },
        {
            "cell_type": "code",
            "execution_count": 3,
            "metadata": {},
            "outputs": [
                {
                    "data": {
                        "text/html": [
                            "\u003cdiv\u003e\n",
                            "\u003cstyle scoped\u003e\n",
                            "    .dataframe tbody tr th:only-of-type {\n",
                            "        vertical-align: middle;\n",
                            "    }\n",
                            "\n",
                            "    .dataframe tbody tr th {\n",
                            "        vertical-align: top;\n",
                            "    }\n",
                            "\n",
                            "    .dataframe thead th {\n",
                            "        text-align: right;\n",
                            "    }\n",
                            "\u003c/style\u003e\n",
                            "\u003ctable border=\"1\" class=\"dataframe\"\u003e\n",
                            "  \u003cthead\u003e\n",
                            "    \u003ctr style=\"text-align: right;\"\u003e\n",
                            "      \u003cth\u003e\u003c/th\u003e\n",
                            "      \u003cth\u003eDATE\u003c/th\u003e\n",
                            "      \u003cth\u003eP\u003c/th\u003e\n",
                            "      \u003cth\u003eR\u003c/th\u003e\n",
                            "    \u003c/tr\u003e\n",
                            "  \u003c/thead\u003e\n",
                            "  \u003ctbody\u003e\n",
                            "    \u003ctr\u003e\n",
                            "      \u003cth\u003e0\u003c/th\u003e\n",
                            "      \u003ctd\u003e1969-12-01\u003c/td\u003e\n",
                            "      \u003ctd\u003e17.1\u003c/td\u003e\n",
                            "      \u003ctd\u003e5.65\u003c/td\u003e\n",
                            "    \u003c/tr\u003e\n",
                            "    \u003ctr\u003e\n",
                            "      \u003cth\u003e1\u003c/th\u003e\n",
                            "      \u003ctd\u003e1970-03-01\u003c/td\u003e\n",
                            "      \u003ctd\u003e17.3\u003c/td\u003e\n",
                            "      \u003ctd\u003e7.15\u003c/td\u003e\n",
                            "    \u003c/tr\u003e\n",
                            "    \u003ctr\u003e\n",
                            "      \u003cth\u003e2\u003c/th\u003e\n",
                            "      \u003ctd\u003e1970-06-01\u003c/td\u003e\n",
                            "      \u003ctd\u003e17.5\u003c/td\u003e\n",
                            "      \u003ctd\u003e8.70\u003c/td\u003e\n",
                            "    \u003c/tr\u003e\n",
                            "    \u003ctr\u003e\n",
                            "      \u003cth\u003e3\u003c/th\u003e\n",
                            "      \u003ctd\u003e1970-09-01\u003c/td\u003e\n",
                            "      \u003ctd\u003e17.6\u003c/td\u003e\n",
                            "      \u003ctd\u003e6.35\u003c/td\u003e\n",
                            "    \u003c/tr\u003e\n",
                            "    \u003ctr\u003e\n",
                            "      \u003cth\u003e4\u003c/th\u003e\n",
                            "      \u003ctd\u003e1970-12-01\u003c/td\u003e\n",
                            "      \u003ctd\u003e17.9\u003c/td\u003e\n",
                            "      \u003ctd\u003e6.50\u003c/td\u003e\n",
                            "    \u003c/tr\u003e\n",
                            "    \u003ctr\u003e\n",
                            "      \u003cth\u003e...\u003c/th\u003e\n",
                            "      \u003ctd\u003e...\u003c/td\u003e\n",
                            "      \u003ctd\u003e...\u003c/td\u003e\n",
                            "      \u003ctd\u003e...\u003c/td\u003e\n",
                            "    \u003c/tr\u003e\n",
                            "    \u003ctr\u003e\n",
                            "      \u003cth\u003e166\u003c/th\u003e\n",
                            "      \u003ctd\u003e2011-06-01\u003c/td\u003e\n",
                            "      \u003ctd\u003e178.3\u003c/td\u003e\n",
                            "      \u003ctd\u003e4.99\u003c/td\u003e\n",
                            "    \u003c/tr\u003e\n",
                            "    \u003ctr\u003e\n",
                            "      \u003cth\u003e167\u003c/th\u003e\n",
                            "      \u003ctd\u003e2011-09-01\u003c/td\u003e\n",
                            "      \u003ctd\u003e179.4\u003c/td\u003e\n",
                            "      \u003ctd\u003e4.81\u003c/td\u003e\n",
                            "    \u003c/tr\u003e\n",
                            "    \u003ctr\u003e\n",
                            "      \u003cth\u003e168\u003c/th\u003e\n",
                            "      \u003ctd\u003e2011-12-01\u003c/td\u003e\n",
                            "      \u003ctd\u003e179.4\u003c/td\u003e\n",
                            "      \u003ctd\u003e4.51\u003c/td\u003e\n",
                            "    \u003c/tr\u003e\n",
                            "    \u003ctr\u003e\n",
                            "      \u003cth\u003e169\u003c/th\u003e\n",
                            "      \u003ctd\u003e2012-03-01\u003c/td\u003e\n",
                            "      \u003ctd\u003e179.5\u003c/td\u003e\n",
                            "      \u003ctd\u003e4.44\u003c/td\u003e\n",
                            "    \u003c/tr\u003e\n",
                            "    \u003ctr\u003e\n",
                            "      \u003cth\u003e170\u003c/th\u003e\n",
                            "      \u003ctd\u003e2012-06-01\u003c/td\u003e\n",
                            "      \u003ctd\u003e180.4\u003c/td\u003e\n",
                            "      \u003ctd\u003e3.49\u003c/td\u003e\n",
                            "    \u003c/tr\u003e\n",
                            "  \u003c/tbody\u003e\n",
                            "\u003c/table\u003e\n",
                            "\u003cp\u003e171 rows × 3 columns\u003c/p\u003e\n",
                            "\u003c/div\u003e"
                        ],
                        "text/plain": [
                            "          DATE      P     R\n",
                            "0   1969-12-01   17.1  5.65\n",
                            "1   1970-03-01   17.3  7.15\n",
                            "2   1970-06-01   17.5  8.70\n",
                            "3   1970-09-01   17.6  6.35\n",
                            "4   1970-12-01   17.9  6.50\n",
                            "..         ...    ...   ...\n",
                            "166 2011-06-01  178.3  4.99\n",
                            "167 2011-09-01  179.4  4.81\n",
                            "168 2011-12-01  179.4  4.51\n",
                            "169 2012-03-01  179.5  4.44\n",
                            "170 2012-06-01  180.4  3.49\n",
                            "\n",
                            "[171 rows x 3 columns]"
                        ]
                    },
                    "execution_count": 3,
                    "metadata": {},
                    "output_type": "execute_result"
                }
            ],
            "source": [
                "#reading the file\n",
                "df = pd.read_excel(\"fisher_update.xlsx\")\n",
                "df"
            ]
        },
        {
            "attachments": {},
            "cell_type": "markdown",
            "metadata": {},
            "source": [
                "# Calculating annual inflation from quarterly CPI "
            ]
        },
        {
            "cell_type": "code",
            "execution_count": 4,
            "metadata": {},
            "outputs": [
                {
                    "data": {
                        "text/html": [
                            "\u003cdiv\u003e\n",
                            "\u003cstyle scoped\u003e\n",
                            "    .dataframe tbody tr th:only-of-type {\n",
                            "        vertical-align: middle;\n",
                            "    }\n",
                            "\n",
                            "    .dataframe tbody tr th {\n",
                            "        vertical-align: top;\n",
                            "    }\n",
                            "\n",
                            "    .dataframe thead th {\n",
                            "        text-align: right;\n",
                            "    }\n",
                            "\u003c/style\u003e\n",
                            "\u003ctable border=\"1\" class=\"dataframe\"\u003e\n",
                            "  \u003cthead\u003e\n",
                            "    \u003ctr style=\"text-align: right;\"\u003e\n",
                            "      \u003cth\u003e\u003c/th\u003e\n",
                            "      \u003cth\u003eDATE\u003c/th\u003e\n",
                            "      \u003cth\u003eP\u003c/th\u003e\n",
                            "      \u003cth\u003eR\u003c/th\u003e\n",
                            "      \u003cth\u003eINF\u003c/th\u003e\n",
                            "    \u003c/tr\u003e\n",
                            "  \u003c/thead\u003e\n",
                            "  \u003ctbody\u003e\n",
                            "    \u003ctr\u003e\n",
                            "      \u003cth\u003e0\u003c/th\u003e\n",
                            "      \u003ctd\u003e1969-12-01\u003c/td\u003e\n",
                            "      \u003ctd\u003e17.1\u003c/td\u003e\n",
                            "      \u003ctd\u003e5.65\u003c/td\u003e\n",
                            "      \u003ctd\u003eNaN\u003c/td\u003e\n",
                            "    \u003c/tr\u003e\n",
                            "    \u003ctr\u003e\n",
                            "      \u003cth\u003e1\u003c/th\u003e\n",
                            "      \u003ctd\u003e1970-03-01\u003c/td\u003e\n",
                            "      \u003ctd\u003e17.3\u003c/td\u003e\n",
                            "      \u003ctd\u003e7.15\u003c/td\u003e\n",
                            "      \u003ctd\u003e4.651215\u003c/td\u003e\n",
                            "    \u003c/tr\u003e\n",
                            "    \u003ctr\u003e\n",
                            "      \u003cth\u003e2\u003c/th\u003e\n",
                            "      \u003ctd\u003e1970-06-01\u003c/td\u003e\n",
                            "      \u003ctd\u003e17.5\u003c/td\u003e\n",
                            "      \u003ctd\u003e8.70\u003c/td\u003e\n",
                            "      \u003ctd\u003e4.597752\u003c/td\u003e\n",
                            "    \u003c/tr\u003e\n",
                            "    \u003ctr\u003e\n",
                            "      \u003cth\u003e3\u003c/th\u003e\n",
                            "      \u003ctd\u003e1970-09-01\u003c/td\u003e\n",
                            "      \u003ctd\u003e17.6\u003c/td\u003e\n",
                            "      \u003ctd\u003e6.35\u003c/td\u003e\n",
                            "      \u003ctd\u003e2.279208\u003c/td\u003e\n",
                            "    \u003c/tr\u003e\n",
                            "    \u003ctr\u003e\n",
                            "      \u003cth\u003e4\u003c/th\u003e\n",
                            "      \u003ctd\u003e1970-12-01\u003c/td\u003e\n",
                            "      \u003ctd\u003e17.9\u003c/td\u003e\n",
                            "      \u003ctd\u003e6.50\u003c/td\u003e\n",
                            "      \u003ctd\u003e6.760724\u003c/td\u003e\n",
                            "    \u003c/tr\u003e\n",
                            "  \u003c/tbody\u003e\n",
                            "\u003c/table\u003e\n",
                            "\u003c/div\u003e"
                        ],
                        "text/plain": [
                            "        DATE     P     R       INF\n",
                            "0 1969-12-01  17.1  5.65       NaN\n",
                            "1 1970-03-01  17.3  7.15  4.651215\n",
                            "2 1970-06-01  17.5  8.70  4.597752\n",
                            "3 1970-09-01  17.6  6.35  2.279208\n",
                            "4 1970-12-01  17.9  6.50  6.760724"
                        ]
                    },
                    "execution_count": 4,
                    "metadata": {},
                    "output_type": "execute_result"
                }
            ],
            "source": [
                "#computing the inflation rate\n",
                "df['INF'] = 400*np.log(df['P']/df['P'].shift(1))\n",
                "df.head()"
            ]
        },
        {
            "cell_type": "code",
            "execution_count": 5,
            "metadata": {},
            "outputs": [
                {
                    "data": {
                        "text/html": [
                            "\u003cdiv\u003e\n",
                            "\u003cstyle scoped\u003e\n",
                            "    .dataframe tbody tr th:only-of-type {\n",
                            "        vertical-align: middle;\n",
                            "    }\n",
                            "\n",
                            "    .dataframe tbody tr th {\n",
                            "        vertical-align: top;\n",
                            "    }\n",
                            "\n",
                            "    .dataframe thead th {\n",
                            "        text-align: right;\n",
                            "    }\n",
                            "\u003c/style\u003e\n",
                            "\u003ctable border=\"1\" class=\"dataframe\"\u003e\n",
                            "  \u003cthead\u003e\n",
                            "    \u003ctr style=\"text-align: right;\"\u003e\n",
                            "      \u003cth\u003e\u003c/th\u003e\n",
                            "      \u003cth\u003eDATE\u003c/th\u003e\n",
                            "      \u003cth\u003eP\u003c/th\u003e\n",
                            "      \u003cth\u003eR\u003c/th\u003e\n",
                            "      \u003cth\u003eINF\u003c/th\u003e\n",
                            "    \u003c/tr\u003e\n",
                            "  \u003c/thead\u003e\n",
                            "  \u003ctbody\u003e\n",
                            "    \u003ctr\u003e\n",
                            "      \u003cth\u003e166\u003c/th\u003e\n",
                            "      \u003ctd\u003e2011-06-01\u003c/td\u003e\n",
                            "      \u003ctd\u003e178.3\u003c/td\u003e\n",
                            "      \u003ctd\u003e4.99\u003c/td\u003e\n",
                            "      \u003ctd\u003e3.605658\u003c/td\u003e\n",
                            "    \u003c/tr\u003e\n",
                            "    \u003ctr\u003e\n",
                            "      \u003cth\u003e167\u003c/th\u003e\n",
                            "      \u003ctd\u003e2011-09-01\u003c/td\u003e\n",
                            "      \u003ctd\u003e179.4\u003c/td\u003e\n",
                            "      \u003ctd\u003e4.81\u003c/td\u003e\n",
                            "      \u003ctd\u003e2.460170\u003c/td\u003e\n",
                            "    \u003c/tr\u003e\n",
                            "    \u003ctr\u003e\n",
                            "      \u003cth\u003e168\u003c/th\u003e\n",
                            "      \u003ctd\u003e2011-12-01\u003c/td\u003e\n",
                            "      \u003ctd\u003e179.4\u003c/td\u003e\n",
                            "      \u003ctd\u003e4.51\u003c/td\u003e\n",
                            "      \u003ctd\u003e0.000000\u003c/td\u003e\n",
                            "    \u003c/tr\u003e\n",
                            "    \u003ctr\u003e\n",
                            "      \u003cth\u003e169\u003c/th\u003e\n",
                            "      \u003ctd\u003e2012-03-01\u003c/td\u003e\n",
                            "      \u003ctd\u003e179.5\u003c/td\u003e\n",
                            "      \u003ctd\u003e4.44\u003c/td\u003e\n",
                            "      \u003ctd\u003e0.222903\u003c/td\u003e\n",
                            "    \u003c/tr\u003e\n",
                            "    \u003ctr\u003e\n",
                            "      \u003cth\u003e170\u003c/th\u003e\n",
                            "      \u003ctd\u003e2012-06-01\u003c/td\u003e\n",
                            "      \u003ctd\u003e180.4\u003c/td\u003e\n",
                            "      \u003ctd\u003e3.49\u003c/td\u003e\n",
                            "      \u003ctd\u003e2.000560\u003c/td\u003e\n",
                            "    \u003c/tr\u003e\n",
                            "  \u003c/tbody\u003e\n",
                            "\u003c/table\u003e\n",
                            "\u003c/div\u003e"
                        ],
                        "text/plain": [
                            "          DATE      P     R       INF\n",
                            "166 2011-06-01  178.3  4.99  3.605658\n",
                            "167 2011-09-01  179.4  4.81  2.460170\n",
                            "168 2011-12-01  179.4  4.51  0.000000\n",
                            "169 2012-03-01  179.5  4.44  0.222903\n",
                            "170 2012-06-01  180.4  3.49  2.000560"
                        ]
                    },
                    "execution_count": 5,
                    "metadata": {},
                    "output_type": "execute_result"
                }
            ],
            "source": [
                "df.tail()"
            ]
        },
        {
            "attachments": {},
            "cell_type": "markdown",
            "metadata": {},
            "source": [
                "# Selecting sample data from row 57:Qtr 1 1984 to row 170: Qtr 2012"
            ]
        },
        {
            "cell_type": "code",
            "execution_count": 6,
            "metadata": {},
            "outputs": [
                {
                    "data": {
                        "text/html": [
                            "\u003cdiv\u003e\n",
                            "\u003cstyle scoped\u003e\n",
                            "    .dataframe tbody tr th:only-of-type {\n",
                            "        vertical-align: middle;\n",
                            "    }\n",
                            "\n",
                            "    .dataframe tbody tr th {\n",
                            "        vertical-align: top;\n",
                            "    }\n",
                            "\n",
                            "    .dataframe thead th {\n",
                            "        text-align: right;\n",
                            "    }\n",
                            "\u003c/style\u003e\n",
                            "\u003ctable border=\"1\" class=\"dataframe\"\u003e\n",
                            "  \u003cthead\u003e\n",
                            "    \u003ctr style=\"text-align: right;\"\u003e\n",
                            "      \u003cth\u003e\u003c/th\u003e\n",
                            "      \u003cth\u003eDATE\u003c/th\u003e\n",
                            "      \u003cth\u003eP\u003c/th\u003e\n",
                            "      \u003cth\u003eR\u003c/th\u003e\n",
                            "      \u003cth\u003eINF\u003c/th\u003e\n",
                            "    \u003c/tr\u003e\n",
                            "  \u003c/thead\u003e\n",
                            "  \u003ctbody\u003e\n",
                            "    \u003ctr\u003e\n",
                            "      \u003cth\u003e57\u003c/th\u003e\n",
                            "      \u003ctd\u003e1984-03-01\u003c/td\u003e\n",
                            "      \u003ctd\u003e65.2\u003c/td\u003e\n",
                            "      \u003ctd\u003e13.77\u003c/td\u003e\n",
                            "      \u003ctd\u003e-1.836269\u003c/td\u003e\n",
                            "    \u003c/tr\u003e\n",
                            "    \u003ctr\u003e\n",
                            "      \u003cth\u003e58\u003c/th\u003e\n",
                            "      \u003ctd\u003e1984-06-01\u003c/td\u003e\n",
                            "      \u003ctd\u003e65.4\u003c/td\u003e\n",
                            "      \u003ctd\u003e12.81\u003c/td\u003e\n",
                            "      \u003ctd\u003e1.225116\u003c/td\u003e\n",
                            "    \u003c/tr\u003e\n",
                            "    \u003ctr\u003e\n",
                            "      \u003cth\u003e59\u003c/th\u003e\n",
                            "      \u003ctd\u003e1984-09-01\u003c/td\u003e\n",
                            "      \u003ctd\u003e66.2\u003c/td\u003e\n",
                            "      \u003ctd\u003e10.53\u003c/td\u003e\n",
                            "      \u003ctd\u003e4.863282\u003c/td\u003e\n",
                            "    \u003c/tr\u003e\n",
                            "    \u003ctr\u003e\n",
                            "      \u003cth\u003e60\u003c/th\u003e\n",
                            "      \u003ctd\u003e1984-12-01\u003c/td\u003e\n",
                            "      \u003ctd\u003e67.2\u003c/td\u003e\n",
                            "      \u003ctd\u003e12.34\u003c/td\u003e\n",
                            "      \u003ctd\u003e5.997114\u003c/td\u003e\n",
                            "    \u003c/tr\u003e\n",
                            "    \u003ctr\u003e\n",
                            "      \u003cth\u003e61\u003c/th\u003e\n",
                            "      \u003ctd\u003e1985-03-01\u003c/td\u003e\n",
                            "      \u003ctd\u003e68.1\u003c/td\u003e\n",
                            "      \u003ctd\u003e15.29\u003c/td\u003e\n",
                            "      \u003ctd\u003e5.321586\u003c/td\u003e\n",
                            "    \u003c/tr\u003e\n",
                            "    \u003ctr\u003e\n",
                            "      \u003cth\u003e...\u003c/th\u003e\n",
                            "      \u003ctd\u003e...\u003c/td\u003e\n",
                            "      \u003ctd\u003e...\u003c/td\u003e\n",
                            "      \u003ctd\u003e...\u003c/td\u003e\n",
                            "      \u003ctd\u003e...\u003c/td\u003e\n",
                            "    \u003c/tr\u003e\n",
                            "    \u003ctr\u003e\n",
                            "      \u003cth\u003e165\u003c/th\u003e\n",
                            "      \u003ctd\u003e2011-03-01\u003c/td\u003e\n",
                            "      \u003ctd\u003e176.7\u003c/td\u003e\n",
                            "      \u003ctd\u003e4.92\u003c/td\u003e\n",
                            "      \u003ctd\u003e6.159232\u003c/td\u003e\n",
                            "    \u003c/tr\u003e\n",
                            "    \u003ctr\u003e\n",
                            "      \u003cth\u003e166\u003c/th\u003e\n",
                            "      \u003ctd\u003e2011-06-01\u003c/td\u003e\n",
                            "      \u003ctd\u003e178.3\u003c/td\u003e\n",
                            "      \u003ctd\u003e4.99\u003c/td\u003e\n",
                            "      \u003ctd\u003e3.605658\u003c/td\u003e\n",
                            "    \u003c/tr\u003e\n",
                            "    \u003ctr\u003e\n",
                            "      \u003cth\u003e167\u003c/th\u003e\n",
                            "      \u003ctd\u003e2011-09-01\u003c/td\u003e\n",
                            "      \u003ctd\u003e179.4\u003c/td\u003e\n",
                            "      \u003ctd\u003e4.81\u003c/td\u003e\n",
                            "      \u003ctd\u003e2.460170\u003c/td\u003e\n",
                            "    \u003c/tr\u003e\n",
                            "    \u003ctr\u003e\n",
                            "      \u003cth\u003e168\u003c/th\u003e\n",
                            "      \u003ctd\u003e2011-12-01\u003c/td\u003e\n",
                            "      \u003ctd\u003e179.4\u003c/td\u003e\n",
                            "      \u003ctd\u003e4.51\u003c/td\u003e\n",
                            "      \u003ctd\u003e0.000000\u003c/td\u003e\n",
                            "    \u003c/tr\u003e\n",
                            "    \u003ctr\u003e\n",
                            "      \u003cth\u003e169\u003c/th\u003e\n",
                            "      \u003ctd\u003e2012-03-01\u003c/td\u003e\n",
                            "      \u003ctd\u003e179.5\u003c/td\u003e\n",
                            "      \u003ctd\u003e4.44\u003c/td\u003e\n",
                            "      \u003ctd\u003e0.222903\u003c/td\u003e\n",
                            "    \u003c/tr\u003e\n",
                            "  \u003c/tbody\u003e\n",
                            "\u003c/table\u003e\n",
                            "\u003cp\u003e113 rows × 4 columns\u003c/p\u003e\n",
                            "\u003c/div\u003e"
                        ],
                        "text/plain": [
                            "          DATE      P      R       INF\n",
                            "57  1984-03-01   65.2  13.77 -1.836269\n",
                            "58  1984-06-01   65.4  12.81  1.225116\n",
                            "59  1984-09-01   66.2  10.53  4.863282\n",
                            "60  1984-12-01   67.2  12.34  5.997114\n",
                            "61  1985-03-01   68.1  15.29  5.321586\n",
                            "..         ...    ...    ...       ...\n",
                            "165 2011-03-01  176.7   4.92  6.159232\n",
                            "166 2011-06-01  178.3   4.99  3.605658\n",
                            "167 2011-09-01  179.4   4.81  2.460170\n",
                            "168 2011-12-01  179.4   4.51  0.000000\n",
                            "169 2012-03-01  179.5   4.44  0.222903\n",
                            "\n",
                            "[113 rows x 4 columns]"
                        ]
                    },
                    "execution_count": 6,
                    "metadata": {},
                    "output_type": "execute_result"
                }
            ],
            "source": [
                "#Selecting the sample from\n",
                "dta =df.iloc[57:170]\n",
                "dta\n",
                ""
            ]
        },
        {
            "attachments": {},
            "cell_type": "markdown",
            "metadata": {},
            "source": [
                "# Plotting the time series: Inflation "
            ]
        },
        {
            "cell_type": "code",
            "execution_count": 7,
            "metadata": {},
            "outputs": [
                {
                    "data": {
                        "image/png": "[encoded data removed]",
                        "text/plain": [
                            "\u003cFigure size 432x288 with 1 Axes\u003e"
                        ]
                    },
                    "metadata": {
                        "needs_background": "light"
                    },
                    "output_type": "display_data"
                }
            ],
            "source": [
                "#plotting the series\n",
                "plt.plot(dta['INF'],label='Inflation')\n",
                "plt.legend(loc='best', fontsize='large')\n",
                "plt.show()"
            ]
        },
        {
            "cell_type": "code",
            "execution_count": 8,
            "metadata": {},
            "outputs": [
                {
                    "data": {
                        "text/plain": [
                            "57    -1.836269\n",
                            "58     1.225116\n",
                            "59     4.863282\n",
                            "60     5.997114\n",
                            "61     5.321586\n",
                            "         ...   \n",
                            "165    6.159232\n",
                            "166    3.605658\n",
                            "167    2.460170\n",
                            "168    0.000000\n",
                            "169    0.222903\n",
                            "Name: INF, Length: 113, dtype: float64"
                        ]
                    },
                    "execution_count": 8,
                    "metadata": {},
                    "output_type": "execute_result"
                }
            ],
            "source": [
                "dt = dta['INF'].dropna()\n",
                "dt"
            ]
        },
        {
            "attachments": {},
            "cell_type": "markdown",
            "metadata": {},
            "source": [
                "# ADF test of stationarity and unit root"
            ]
        },
        {
            "cell_type": "code",
            "execution_count": 9,
            "metadata": {},
            "outputs": [
                {
                    "name": "stdout",
                    "output_type": "stream",
                    "text": "ADF Statistic: -3.820525408886768\nn_lags: 0.0027041579302507688\np-value: 0.0027041579302507688\n\t1%:-3.491\n\t5%:-2.888\n\t10%:-2.581\nReject Ho_ Time Series is then stationary\n"
                }
            ],
            "source": [
                "#ADF Test under (i) Constant (no linear trend)\n",
                "X = dt.values\n",
                "result = adfuller(X, maxlag=None, regression='c', autolag='BIC', store=False, regresults=False)\n",
                "print(f'ADF Statistic: {result[0]}')\n",
                "print(f'n_lags: {result[1]}')\n",
                "print(f'p-value: {result[1]}')\n",
                "for key, value in result[4].items():\n",
                "\tprint('\\t%s:%.3f'%(key,value))\n",
                "if result[0] \u003c result [4] [\"1%\"]:\n",
                "\tprint(\"Reject Ho_ Time Series is then stationary\")\n",
                "else: \n",
                "\tprint(\"Failed to Reject Ho_ Time Series is then non-stationary\")"
            ]
        },
        {
            "cell_type": "code",
            "execution_count": 10,
            "metadata": {},
            "outputs": [
                {
                    "name": "stdout",
                    "output_type": "stream",
                    "text": "ADF Statistic: -4.707778614704212\nn_lags: 0.0006768517326375754\np-value: 0.0006768517326375754\n\t1%:-4.043\n\t5%:-3.451\n\t10%:-3.151\nReject Ho_ Time Series is then stationary\n"
                }
            ],
            "source": [
                "# ADF test under (ii) Constant , Linear trend\n",
                "X = dt.values\n",
                "result = adfuller(X, maxlag=None, regression='ct', autolag='BIC', store=False, regresults=False)\n",
                "print(f'ADF Statistic: {result[0]}')\n",
                "print(f'n_lags: {result[1]}')\n",
                "print(f'p-value: {result[1]}')\n",
                "for key, value in result[4].items():\n",
                "\tprint('\\t%s:%.3f'%(key,value))\n",
                "if result[0] \u003c result [4] [\"1%\"]:\n",
                "\tprint(\"Reject Ho_ Time Series is then stationary\")\n",
                "else: \n",
                "\tprint(\"Failed to Reject Ho_ Time Series is then non-stationary\")"
            ]
        },
        {
            "attachments": {},
            "cell_type": "markdown",
            "metadata": {},
            "source": [
                "# Correlogram: ACF and PACF"
            ]
        },
        {
            "cell_type": "code",
            "execution_count": 11,
            "metadata": {},
            "outputs": [
                {
                    "data": {
                        "image/png": "[encoded data removed]",
                        "text/plain": [
                            "\u003cFigure size 432x288 with 1 Axes\u003e"
                        ]
                    },
                    "metadata": {
                        "needs_background": "light"
                    },
                    "output_type": "display_data"
                },
                {
                    "data": {
                        "image/png": "[encoded data removed]",
                        "text/plain": [
                            "\u003cFigure size 432x288 with 1 Axes\u003e"
                        ]
                    },
                    "metadata": {
                        "needs_background": "light"
                    },
                    "output_type": "display_data"
                }
            ],
            "source": [
                "#running ACF and PACF\n",
                "sm.graphics.tsa.plot_acf(dt.values.squeeze(),lags=16)\n",
                "sm.graphics.tsa.plot_pacf(dt.values.squeeze(),lags=16)\n",
                "plt.show()"
            ]
        },
        {
            "cell_type": "code",
            "execution_count": 12,
            "metadata": {
                "scrolled": true
            },
            "outputs": [
                {
                    "name": "stdout",
                    "output_type": "stream",
                    "text": "            AC           Q      Prob(\u003eQ)\nlag                                     \n1.0   0.526177   32.123408  1.446835e-08\n2.0   0.461362   57.042746  4.105113e-13\n3.0   0.405887   76.505017  1.723856e-16\n4.0   0.398961   95.481302  9.003058e-20\n5.0   0.328190  108.441254  8.746813e-22\n6.0   0.260200  116.663817  8.174178e-23\n7.0   0.228314  123.054314  1.769702e-23\n8.0   0.215547  128.804379  5.005157e-24\n9.0   0.182584  132.969880  2.903758e-24\n10.0  0.124870  134.937112  4.582456e-24\n11.0  0.070530  135.570871  1.293531e-23\n12.0  0.073664  136.269055  3.386720e-23\n13.0  0.095310  137.449513  6.819758e-23\n14.0  0.080457  138.299210  1.544904e-22\n15.0  0.031527  138.431012  4.692586e-22\n16.0  0.015339  138.462534  1.440337e-21\n17.0  0.073788  139.199540  3.120838e-21\n18.0 -0.005333  139.203430  9.118899e-21\n19.0  0.073269  139.945566  1.869803e-20\n20.0  0.097139  141.264071  2.913081e-20\n21.0  0.030206  141.392947  7.472463e-20\n22.0  0.035012  141.568003  1.834430e-19\n23.0 -0.040731  141.807540  4.283401e-19\n24.0 -0.035400  141.990513  1.003125e-18\n25.0 -0.066250  142.638639  1.892763e-18\n26.0 -0.123986  144.934784  1.763752e-18\n27.0 -0.119284  147.084814  1.733937e-18\n28.0 -0.061785  147.668423  3.235356e-18\n29.0 -0.104202  149.348204  3.792051e-18\n30.0 -0.047342  149.699109  7.583105e-18\n31.0 -0.087683  150.917517  1.051183e-17\n32.0 -0.072328  151.756788  1.681406e-17\n33.0 -0.163640  156.106553  6.505437e-18\n34.0 -0.122372  158.569818  5.366036e-18\n35.0 -0.106180  160.448125  5.569460e-18\n36.0 -0.119128  162.843188  4.683319e-18\n37.0 -0.122013  165.388711  3.698133e-18\n38.0 -0.106321  167.347329  3.670295e-18\n39.0  0.006632  167.355052  7.787677e-18\n40.0 -0.083014  168.581796  1.015628e-17\n"
                },
                {
                    "name": "stderr",
                    "output_type": "stream",
                    "text": "C:\\Users\\rluck\\anaconda3\\lib\\site-packages\\statsmodels\\tsa\\stattools.py:657: FutureWarning: The default number of lags is changing from 40 tomin(int(10 * np.log10(nobs)), nobs - 1) after 0.12is released. Set the number of lags to an integer to  silence this warning.\n  warnings.warn(\nC:\\Users\\rluck\\anaconda3\\lib\\site-packages\\statsmodels\\tsa\\stattools.py:667: FutureWarning: fft=True will become the default after the release of the 0.12 release of statsmodels. To suppress this warning, explicitly set fft=False.\n  warnings.warn(\n"
                }
            ],
            "source": [
                "# Generating the Q tables\n",
                "import numpy as np\n",
                "r,q,p = sm.tsa.acf(dt.values.squeeze(), qstat=True)\n",
                "data = np.c_[range(1,41), r[1:], q, p]\n",
                "table = pd.DataFrame(data, columns=['lag', \"AC\", \"Q\", \"Prob(\u003eQ)\"])\n",
                "print (table.set_index('lag'))"
            ]
        },
        {
            "attachments": {},
            "cell_type": "markdown",
            "metadata": {},
            "source": [
                "# Auto ARIMA"
            ]
        },
        {
            "cell_type": "code",
            "execution_count": 13,
            "metadata": {},
            "outputs": [
                {
                    "name": "stderr",
                    "output_type": "stream",
                    "text": "C:\\Users\\rluck\\anaconda3\\lib\\site-packages\\statsmodels\\tsa\\arima_model.py:472: FutureWarning: \nstatsmodels.tsa.arima_model.ARMA and statsmodels.tsa.arima_model.ARIMA have\nbeen deprecated in favor of statsmodels.tsa.arima.model.ARIMA (note the .\nbetween arima and model) and\nstatsmodels.tsa.SARIMAX. These will be removed after the 0.12 release.\n\nstatsmodels.tsa.arima.model.ARIMA makes use of the statespace framework and\nis both well tested and maintained.\n\nTo silence this warning and continue using ARMA and ARIMA until they are\nremoved, use:\n\nimport warnings\nwarnings.filterwarnings('ignore', 'statsmodels.tsa.arima_model.ARMA',\n                        FutureWarning)\nwarnings.filterwarnings('ignore', 'statsmodels.tsa.arima_model.ARIMA',\n                        FutureWarning)\n\n  warnings.warn(ARIMA_DEPRECATION_WARN, FutureWarning)\nC:\\Users\\rluck\\anaconda3\\lib\\site-packages\\statsmodels\\tsa\\arima_model.py:472: FutureWarning: \nstatsmodels.tsa.arima_model.ARMA and statsmodels.tsa.arima_model.ARIMA have\nbeen deprecated in favor of statsmodels.tsa.arima.model.ARIMA (note the .\nbetween arima and model) and\nstatsmodels.tsa.SARIMAX. These will be removed after the 0.12 release.\n\nstatsmodels.tsa.arima.model.ARIMA makes use of the statespace framework and\nis both well tested and maintained.\n\nTo silence this warning and continue using ARMA and ARIMA until they are\nremoved, use:\n\nimport warnings\nwarnings.filterwarnings('ignore', 'statsmodels.tsa.arima_model.ARMA',\n                        FutureWarning)\nwarnings.filterwarnings('ignore', 'statsmodels.tsa.arima_model.ARIMA',\n                        FutureWarning)\n\n  warnings.warn(ARIMA_DEPRECATION_WARN, FutureWarning)\nC:\\Users\\rluck\\anaconda3\\lib\\site-packages\\statsmodels\\tsa\\arima_model.py:472: FutureWarning: \nstatsmodels.tsa.arima_model.ARMA and statsmodels.tsa.arima_model.ARIMA have\nbeen deprecated in favor of statsmodels.tsa.arima.model.ARIMA (note the .\nbetween arima and model) and\nstatsmodels.tsa.SARIMAX. These will be removed after the 0.12 release.\n\nstatsmodels.tsa.arima.model.ARIMA makes use of the statespace framework and\nis both well tested and maintained.\n\nTo silence this warning and continue using ARMA and ARIMA until they are\nremoved, use:\n\nimport warnings\nwarnings.filterwarnings('ignore', 'statsmodels.tsa.arima_model.ARMA',\n                        FutureWarning)\nwarnings.filterwarnings('ignore', 'statsmodels.tsa.arima_model.ARIMA',\n                        FutureWarning)\n\n  warnings.warn(ARIMA_DEPRECATION_WARN, FutureWarning)\nC:\\Users\\rluck\\anaconda3\\lib\\site-packages\\statsmodels\\tsa\\arima_model.py:472: FutureWarning: \nstatsmodels.tsa.arima_model.ARMA and statsmodels.tsa.arima_model.ARIMA have\nbeen deprecated in favor of statsmodels.tsa.arima.model.ARIMA (note the .\nbetween arima and model) and\nstatsmodels.tsa.SARIMAX. These will be removed after the 0.12 release.\n\nstatsmodels.tsa.arima.model.ARIMA makes use of the statespace framework and\nis both well tested and maintained.\n\nTo silence this warning and continue using ARMA and ARIMA until they are\nremoved, use:\n\nimport warnings\nwarnings.filterwarnings('ignore', 'statsmodels.tsa.arima_model.ARMA',\n                        FutureWarning)\nwarnings.filterwarnings('ignore', 'statsmodels.tsa.arima_model.ARIMA',\n                        FutureWarning)\n\n  warnings.warn(ARIMA_DEPRECATION_WARN, FutureWarning)\nC:\\Users\\rluck\\anaconda3\\lib\\site-packages\\statsmodels\\tsa\\tsatools.py:701: RuntimeWarning: overflow encountered in exp\n  newparams = ((1-np.exp(-params))/(1+np.exp(-params))).copy()\nC:\\Users\\rluck\\anaconda3\\lib\\site-packages\\statsmodels\\tsa\\tsatools.py:701: RuntimeWarning: invalid value encountered in true_divide\n  newparams = ((1-np.exp(-params))/(1+np.exp(-params))).copy()\nC:\\Users\\rluck\\anaconda3\\lib\\site-packages\\statsmodels\\tsa\\tsatools.py:702: RuntimeWarning: overflow encountered in exp\n  tmp = ((1-np.exp(-params))/(1+np.exp(-params))).copy()\nC:\\Users\\rluck\\anaconda3\\lib\\site-packages\\statsmodels\\tsa\\tsatools.py:702: RuntimeWarning: invalid value encountered in true_divide\n  tmp = ((1-np.exp(-params))/(1+np.exp(-params))).copy()\nC:\\Users\\rluck\\anaconda3\\lib\\site-packages\\statsmodels\\base\\model.py:566: ConvergenceWarning: Maximum Likelihood optimization failed to converge. Check mle_retvals\n  warnings.warn(\"Maximum Likelihood optimization failed to \"\nC:\\Users\\rluck\\anaconda3\\lib\\site-packages\\statsmodels\\tsa\\arima_model.py:472: FutureWarning: \nstatsmodels.tsa.arima_model.ARMA and statsmodels.tsa.arima_model.ARIMA have\nbeen deprecated in favor of statsmodels.tsa.arima.model.ARIMA (note the .\nbetween arima and model) and\nstatsmodels.tsa.SARIMAX. These will be removed after the 0.12 release.\n\nstatsmodels.tsa.arima.model.ARIMA makes use of the statespace framework and\nis both well tested and maintained.\n\nTo silence this warning and continue using ARMA and ARIMA until they are\nremoved, use:\n\nimport warnings\nwarnings.filterwarnings('ignore', 'statsmodels.tsa.arima_model.ARMA',\n                        FutureWarning)\nwarnings.filterwarnings('ignore', 'statsmodels.tsa.arima_model.ARIMA',\n                        FutureWarning)\n\n  warnings.warn(ARIMA_DEPRECATION_WARN, FutureWarning)\nC:\\Users\\rluck\\anaconda3\\lib\\site-packages\\statsmodels\\tsa\\arima_model.py:472: FutureWarning: \nstatsmodels.tsa.arima_model.ARMA and statsmodels.tsa.arima_model.ARIMA have\nbeen deprecated in favor of statsmodels.tsa.arima.model.ARIMA (note the .\nbetween arima and model) and\nstatsmodels.tsa.SARIMAX. These will be removed after the 0.12 release.\n\nstatsmodels.tsa.arima.model.ARIMA makes use of the statespace framework and\nis both well tested and maintained.\n\nTo silence this warning and continue using ARMA and ARIMA until they are\nremoved, use:\n\nimport warnings\nwarnings.filterwarnings('ignore', 'statsmodels.tsa.arima_model.ARMA',\n                        FutureWarning)\nwarnings.filterwarnings('ignore', 'statsmodels.tsa.arima_model.ARIMA',\n                        FutureWarning)\n\n  warnings.warn(ARIMA_DEPRECATION_WARN, FutureWarning)\nC:\\Users\\rluck\\anaconda3\\lib\\site-packages\\statsmodels\\tsa\\arima_model.py:472: FutureWarning: \nstatsmodels.tsa.arima_model.ARMA and statsmodels.tsa.arima_model.ARIMA have\nbeen deprecated in favor of statsmodels.tsa.arima.model.ARIMA (note the .\nbetween arima and model) and\nstatsmodels.tsa.SARIMAX. These will be removed after the 0.12 release.\n\nstatsmodels.tsa.arima.model.ARIMA makes use of the statespace framework and\nis both well tested and maintained.\n\nTo silence this warning and continue using ARMA and ARIMA until they are\nremoved, use:\n\nimport warnings\nwarnings.filterwarnings('ignore', 'statsmodels.tsa.arima_model.ARMA',\n                        FutureWarning)\nwarnings.filterwarnings('ignore', 'statsmodels.tsa.arima_model.ARIMA',\n                        FutureWarning)\n\n  warnings.warn(ARIMA_DEPRECATION_WARN, FutureWarning)\nC:\\Users\\rluck\\anaconda3\\lib\\site-packages\\statsmodels\\tsa\\tsatools.py:701: RuntimeWarning: overflow encountered in exp\n  newparams = ((1-np.exp(-params))/(1+np.exp(-params))).copy()\nC:\\Users\\rluck\\anaconda3\\lib\\site-packages\\statsmodels\\tsa\\tsatools.py:701: RuntimeWarning: invalid value encountered in true_divide\n  newparams = ((1-np.exp(-params))/(1+np.exp(-params))).copy()\nC:\\Users\\rluck\\anaconda3\\lib\\site-packages\\statsmodels\\tsa\\tsatools.py:702: RuntimeWarning: overflow encountered in exp\n  tmp = ((1-np.exp(-params))/(1+np.exp(-params))).copy()\nC:\\Users\\rluck\\anaconda3\\lib\\site-packages\\statsmodels\\tsa\\tsatools.py:702: RuntimeWarning: invalid value encountered in true_divide\n  tmp = ((1-np.exp(-params))/(1+np.exp(-params))).copy()\nC:\\Users\\rluck\\anaconda3\\lib\\site-packages\\statsmodels\\tsa\\arima_model.py:472: FutureWarning: \nstatsmodels.tsa.arima_model.ARMA and statsmodels.tsa.arima_model.ARIMA have\nbeen deprecated in favor of statsmodels.tsa.arima.model.ARIMA (note the .\nbetween arima and model) and\nstatsmodels.tsa.SARIMAX. These will be removed after the 0.12 release.\n\nstatsmodels.tsa.arima.model.ARIMA makes use of the statespace framework and\nis both well tested and maintained.\n\nTo silence this warning and continue using ARMA and ARIMA until they are\nremoved, use:\n\nimport warnings\nwarnings.filterwarnings('ignore', 'statsmodels.tsa.arima_model.ARMA',\n                        FutureWarning)\nwarnings.filterwarnings('ignore', 'statsmodels.tsa.arima_model.ARIMA',\n                        FutureWarning)\n\n  warnings.warn(ARIMA_DEPRECATION_WARN, FutureWarning)\n"
                },
                {
                    "name": "stdout",
                    "output_type": "stream",
                    "text": "(1, 1)\n(1, 1)\n"
                },
                {
                    "name": "stderr",
                    "output_type": "stream",
                    "text": "C:\\Users\\rluck\\anaconda3\\lib\\site-packages\\statsmodels\\base\\model.py:566: ConvergenceWarning: Maximum Likelihood optimization failed to converge. Check mle_retvals\n  warnings.warn(\"Maximum Likelihood optimization failed to \"\n"
                }
            ],
            "source": [
                "import statsmodels.tsa.api as smt\n",
                "result = smt.arma_order_select_ic(dt,ic= ['aic','bic'], trend ='nc')\n",
                "print(result.aic_min_order)\n",
                "print(result.bic_min_order)"
            ]
        },
        {
            "attachments": {},
            "cell_type": "markdown",
            "metadata": {},
            "source": [
                "#ARMA(1,1)"
            ]
        },
        {
            "cell_type": "code",
            "execution_count": 14,
            "metadata": {},
            "outputs": [
                {
                    "name": "stdout",
                    "output_type": "stream",
                    "text": "                               SARIMAX Results                                \n==============================================================================\nDep. Variable:                      y   No. Observations:                  113\nModel:                 ARIMA(1, 0, 1)   Log Likelihood                -261.473\nDate:                Sun, 08 Aug 2021   AIC                            530.945\nTime:                        23:51:18   BIC                            541.855\nSample:                             0   HQIC                           535.372\n                                - 113   Scale                            5.959\nCovariance Type:                  opg                                         \n==============================================================================\n                 coef    std err          z      P\u003e|z|      [0.025      0.975]\n------------------------------------------------------------------------------\nconst          3.3187      0.831      3.995      0.000       1.690       4.947\nar.L1          0.8748      0.068     12.806      0.000       0.741       1.009\nma.L1         -0.5134      0.099     -5.172      0.000      -0.708      -0.319\n===================================================================================\nLjung-Box (L1) (Q):                   0.04   Jarque-Bera (JB):                80.62\nProb(Q):                              0.85   Prob(JB):                         0.00\nHeteroskedasticity (H):               0.52   Skew:                             0.63\nProb(H) (two-sided):                  0.05   Kurtosis:                         6.94\n===================================================================================\n\nWarnings:\n[1] Covariance matrix calculated using the outer product of gradients (complex-step).\n"
                }
            ],
            "source": [
                "arima=ARIMA(dt.values,exog=None, order=(1, 0, 1), seasonal_order=(0, 0, 0, 0), trend=None, enforce_stationarity=True, enforce_invertibility=True, concentrate_scale=True)\n",
                "results = arima.fit()\n",
                "print(results.summary())"
            ]
        },
        {
            "attachments": {},
            "cell_type": "markdown",
            "metadata": {},
            "source": [
                "#ARMA(2,0)"
            ]
        },
        {
            "cell_type": "code",
            "execution_count": 15,
            "metadata": {},
            "outputs": [
                {
                    "name": "stdout",
                    "output_type": "stream",
                    "text": "                               SARIMAX Results                                \n==============================================================================\nDep. Variable:                      y   No. Observations:                  113\nModel:                 ARIMA(2, 0, 0)   Log Likelihood                -262.721\nDate:                Sun, 08 Aug 2021   AIC                            533.442\nTime:                        23:51:18   BIC                            544.352\nSample:                             0   HQIC                           537.869\n                                - 113   Scale                            6.096\nCovariance Type:                  opg                                         \n==============================================================================\n                 coef    std err          z      P\u003e|z|      [0.025      0.975]\n------------------------------------------------------------------------------\nconst          3.3784      0.701      4.820      0.000       2.005       4.752\nar.L1          0.4007      0.061      6.555      0.000       0.281       0.520\nar.L2          0.2691      0.093      2.893      0.004       0.087       0.451\n===================================================================================\nLjung-Box (L1) (Q):                   0.22   Jarque-Bera (JB):                65.00\nProb(Q):                              0.64   Prob(JB):                         0.00\nHeteroskedasticity (H):               0.52   Skew:                             0.60\nProb(H) (two-sided):                  0.05   Kurtosis:                         6.52\n===================================================================================\n\nWarnings:\n[1] Covariance matrix calculated using the outer product of gradients (complex-step).\n"
                }
            ],
            "source": [
                "arima_1=ARIMA(dt.values,exog=None, order=(2, 0, 0), seasonal_order=(0, 0, 0, 0), trend=None, enforce_stationarity=True, enforce_invertibility=True, concentrate_scale=True)\n",
                "results_1 = arima_1.fit()\n",
                "print(results_1.summary())"
            ]
        },
        {
            "attachments": {},
            "cell_type": "raw",
            "metadata": {},
            "source": [
                " # ARMA (1,2)"
            ]
        },
        {
            "cell_type": "code",
            "execution_count": 16,
            "metadata": {},
            "outputs": [
                {
                    "name": "stdout",
                    "output_type": "stream",
                    "text": "                               SARIMAX Results                                \n==============================================================================\nDep. Variable:                      y   No. Observations:                  113\nModel:                 ARIMA(1, 0, 2)   Log Likelihood                -261.428\nDate:                Sun, 08 Aug 2021   AIC                            532.855\nTime:                        23:51:18   BIC                            546.492\nSample:                             0   HQIC                           538.389\n                                - 113   Scale                            5.954\nCovariance Type:                  opg                                         \n==============================================================================\n                 coef    std err          z      P\u003e|z|      [0.025      0.975]\n------------------------------------------------------------------------------\nconst          3.3129      0.824      4.021      0.000       1.698       4.928\nar.L1          0.8670      0.076     11.333      0.000       0.717       1.017\nma.L1         -0.5203      0.103     -5.047      0.000      -0.722      -0.318\nma.L2          0.0311      0.104      0.300      0.765      -0.172       0.234\n===================================================================================\nLjung-Box (L1) (Q):                   0.00   Jarque-Bera (JB):                76.28\nProb(Q):                              0.96   Prob(JB):                         0.00\nHeteroskedasticity (H):               0.53   Skew:                             0.64\nProb(H) (two-sided):                  0.05   Kurtosis:                         6.82\n===================================================================================\n\nWarnings:\n[1] Covariance matrix calculated using the outer product of gradients (complex-step).\n"
                }
            ],
            "source": [
                "arima_2=ARIMA(dt.values,exog=None, order=(1, 0, 2), seasonal_order=(0, 0, 0, 0), concentrate_scale=True,trend=None, enforce_stationarity=True, enforce_invertibility=True,)\n",
                "results_2 = arima_2.fit()\n",
                "print(results_2.summary())"
            ]
        },
        {
            "attachments": {},
            "cell_type": "markdown",
            "metadata": {},
            "source": [
                "#ARMA(2,2)"
            ]
        },
        {
            "cell_type": "code",
            "execution_count": 17,
            "metadata": {},
            "outputs": [
                {
                    "name": "stdout",
                    "output_type": "stream",
                    "text": "                               SARIMAX Results                                \n==============================================================================\nDep. Variable:                      y   No. Observations:                  113\nModel:                 ARIMA(2, 0, 2)   Log Likelihood                -261.005\nDate:                Sun, 08 Aug 2021   AIC                            534.010\nTime:                        23:51:19   BIC                            550.375\nSample:                             0   HQIC                           540.651\n                                - 113   Scale                            5.904\nCovariance Type:                  opg                                         \n==============================================================================\n                 coef    std err          z      P\u003e|z|      [0.025      0.975]\n------------------------------------------------------------------------------\nconst          3.2844      0.738      4.449      0.000       1.838       4.731\nar.L1          1.7513      0.331      5.287      0.000       1.102       2.401\nar.L2         -0.7879      0.274     -2.872      0.004      -1.326      -0.250\nma.L1         -1.4184      0.337     -4.212      0.000      -2.078      -0.758\nma.L2          0.5338      0.158      3.374      0.001       0.224       0.844\n===================================================================================\nLjung-Box (L1) (Q):                   0.00   Jarque-Bera (JB):                64.01\nProb(Q):                              0.99   Prob(JB):                         0.00\nHeteroskedasticity (H):               0.56   Skew:                             0.60\nProb(H) (two-sided):                  0.08   Kurtosis:                         6.49\n===================================================================================\n\nWarnings:\n[1] Covariance matrix calculated using the outer product of gradients (complex-step).\n"
                }
            ],
            "source": [
                "arima_3=ARIMA(dt.values,exog=None, order=(2, 0, 2), seasonal_order=(0, 0, 0, 0), concentrate_scale=True,trend=None, enforce_stationarity=True, enforce_invertibility=True)\n",
                "results_3 = arima_3.fit()\n",
                "print(results_3.summary())"
            ]
        },
        {
            "attachments": {},
            "cell_type": "markdown",
            "metadata": {},
            "source": [
                "#ARMA (0,2)"
            ]
        },
        {
            "cell_type": "code",
            "execution_count": 18,
            "metadata": {},
            "outputs": [
                {
                    "name": "stdout",
                    "output_type": "stream",
                    "text": "                               SARIMAX Results                                \n==============================================================================\nDep. Variable:                      y   No. Observations:                  113\nModel:                 ARIMA(0, 0, 2)   Log Likelihood                -268.884\nDate:                Sun, 08 Aug 2021   AIC                            545.769\nTime:                        23:51:19   BIC                            556.678\nSample:                             0   HQIC                           550.196\n                                - 113   Scale                            6.812\nCovariance Type:                  opg                                         \n==============================================================================\n                 coef    std err          z      P\u003e|z|      [0.025      0.975]\n------------------------------------------------------------------------------\nconst          3.5175      0.429      8.193      0.000       2.676       4.359\nma.L1          0.4118      0.070      5.911      0.000       0.275       0.548\nma.L2          0.2778      0.128      2.171      0.030       0.027       0.529\n===================================================================================\nLjung-Box (L1) (Q):                   0.17   Jarque-Bera (JB):                40.10\nProb(Q):                              0.68   Prob(JB):                         0.00\nHeteroskedasticity (H):               0.37   Skew:                             0.68\nProb(H) (two-sided):                  0.00   Kurtosis:                         5.58\n===================================================================================\n\nWarnings:\n[1] Covariance matrix calculated using the outer product of gradients (complex-step).\n"
                }
            ],
            "source": [
                "arima_4=ARIMA(dt.values,exog=None, order=(0, 0, 2), seasonal_order=(0, 0, 0, 0), concentrate_scale=True,trend=None, enforce_stationarity=True, enforce_invertibility=True, )\n",
                "results_4 = arima_4.fit()\n",
                "print(results_4.summary())"
            ]
        },
        {
            "cell_type": "code",
            "execution_count": 19,
            "metadata": {},
            "outputs": [
                {
                    "data": {
                        "text/plain": [
                            "(['ARMA_1_1', 'ARMA_2_0', 'ARMA_1_2', 'ARMA_2_2', 'ARMA_0_2'],\n",
                            " [530.9451650125998,\n",
                            "  533.4422760944162,\n",
                            "  532.8552441569482,\n",
                            "  534.0102545166149,\n",
                            "  545.7687072920193])"
                        ]
                    },
                    "execution_count": 19,
                    "metadata": {},
                    "output_type": "execute_result"
                }
            ],
            "source": [
                "name= ['ARMA_1_1','ARMA_2_0','ARMA_1_2','ARMA_2_2','ARMA_0_2']\n",
                "aic =[results.aic,results_1.aic, results_2.aic,results_3.aic,results_4.aic]\n",
                "ret= (name,aic)\n",
                "ret"
            ]
        },
        {
            "cell_type": "code",
            "execution_count": 20,
            "metadata": {},
            "outputs": [
                {
                    "data": {
                        "text/plain": [
                            "(['ARMA_1_1', 'ARMA_2_0', 'ARMA_1_2', 'ARMA_2_2', 'ARMA_0_2'],\n",
                            " [541.8547162874492,\n",
                            "  544.3518273692656,\n",
                            "  546.4921832505099,\n",
                            "  550.3745814288889,\n",
                            "  556.6782585668686])"
                        ]
                    },
                    "execution_count": 20,
                    "metadata": {},
                    "output_type": "execute_result"
                }
            ],
            "source": [
                "name= ['ARMA_1_1','ARMA_2_0','ARMA_1_2','ARMA_2_2','ARMA_0_2']\n",
                "bic =[results.bic,results_1.bic, results_2.bic,results_3.bic,results_4.bic]\n",
                "ret_1= (name,bic)\n",
                "ret_1"
            ]
        },
        {
            "attachments": {},
            "cell_type": "markdown",
            "metadata": {},
            "source": [
                "# Diagnostic tests of ARMA (1,1)"
            ]
        },
        {
            "cell_type": "code",
            "execution_count": 21,
            "metadata": {},
            "outputs": [
                {
                    "data": {
                        "image/png": "[encoded data removed]",
                        "text/plain": [
                            "\u003cFigure size 432x288 with 1 Axes\u003e"
                        ]
                    },
                    "execution_count": 21,
                    "metadata": {},
                    "output_type": "execute_result"
                },
                {
                    "data": {
                        "image/png": "[encoded data removed]",
                        "text/plain": [
                            "\u003cFigure size 432x288 with 1 Axes\u003e"
                        ]
                    },
                    "metadata": {
                        "needs_background": "light"
                    },
                    "output_type": "display_data"
                },
                {
                    "data": {
                        "image/png": "[encoded data removed]",
                        "text/plain": [
                            "\u003cFigure size 432x288 with 1 Axes\u003e"
                        ]
                    },
                    "metadata": {
                        "needs_background": "light"
                    },
                    "output_type": "display_data"
                }
            ],
            "source": [
                "dtr = results.resid\n",
                "sm.graphics.tsa.plot_acf(dtr.squeeze(),lags=36)\n",
                "sm.graphics.tsa.plot_pacf(dtr.squeeze(),lags=36)"
            ]
        },
        {
            "cell_type": "code",
            "execution_count": 22,
            "metadata": {},
            "outputs": [
                {
                    "data": {
                        "text/plain": [
                            "DescribeResult(nobs=113, minmax=(-7.254783393877607, 11.5183532221989), mean=0.04792110343743104, variance=6.098915686575292, skewness=0.5873625711200787, kurtosis=3.853285721150856)"
                        ]
                    },
                    "execution_count": 22,
                    "metadata": {},
                    "output_type": "execute_result"
                }
            ],
            "source": [
                "from scipy import stats\n",
                "stats.describe(dtr)"
            ]
        },
        {
            "cell_type": "code",
            "execution_count": 23,
            "metadata": {},
            "outputs": [
                {
                    "data": {
                        "text/plain": [
                            "Jarque_beraResult(statistic=76.4058446239956, pvalue=0.0)"
                        ]
                    },
                    "execution_count": 23,
                    "metadata": {},
                    "output_type": "execute_result"
                }
            ],
            "source": [
                "JB_resid= stats.jarque_bera(dtr)\n",
                "JB_resid"
            ]
        },
        {
            "cell_type": "code",
            "execution_count": 24,
            "metadata": {},
            "outputs": [
                {
                    "data": {
                        "image/png": "[encoded data removed]",
                        "text/plain": [
                            "\u003cFigure size 432x288 with 1 Axes\u003e"
                        ]
                    },
                    "metadata": {
                        "needs_background": "light"
                    },
                    "output_type": "display_data"
                }
            ],
            "source": [
                "#Plot histogram for residuals\n",
                "import math\n",
                "plt.hist(dtr,bins=20,label='residuals', density=True, alpha=0.6, color='b')\n",
                "plt.legend(loc='best', fontsize='large')\n",
                "#plotting the normal distribution curve\n",
                "mu = 0\n",
                "variance = 1\n",
                "sigma = math.sqrt(variance)\n",
                "x = np.linspace(mu - 3*sigma, mu + 3*sigma, 100)\n",
                "plt.plot(x, stats.norm.pdf(x, mu, sigma))\n",
                "plt.show()"
            ]
        },
        {
            "attachments": {},
            "cell_type": "markdown",
            "metadata": {},
            "source": [
                "# BDS"
            ]
        },
        {
            "cell_type": "code",
            "execution_count": 25,
            "metadata": {},
            "outputs": [],
            "source": [
                "#computing the standardised residuals as residuals from ARMA(1,1) divided by std error of the model\n",
                "import statistics\n",
                "var= statistics.variance(results.resid)\n",
                "se= var**0.5\n",
                "std_res=results.resid/se"
            ]
        },
        {
            "cell_type": "code",
            "execution_count": 26,
            "metadata": {},
            "outputs": [
                {
                    "name": "stdout",
                    "output_type": "stream",
                    "text": "bds_stat, pvalue:(array(1.74252253), array(0.08141705))\n"
                }
            ],
            "source": [
                "#Computing the BDS stats\n",
                "import statsmodels.tsa.stattools as stat\n",
                "bds = stat.bds(std_res,max_dim=2, epsilon=None, distance = 1.5)\n",
                "print('bds_stat, pvalue:{}'.format(bds))"
            ]
        },
        {
            "attachments": {},
            "cell_type": "markdown",
            "metadata": {},
            "source": [
                "\n",
                "# Forecasting "
            ]
        },
        {
            "cell_type": "code",
            "execution_count": 27,
            "metadata": {},
            "outputs": [],
            "source": [
                "from statsmodels.tsa.arima.model import ARIMA"
            ]
        },
        {
            "attachments": {},
            "cell_type": "raw",
            "metadata": {},
            "source": [
                "# In and Out-of-sample forecast (data sets start from 1 to 113 + h=1)"
            ]
        },
        {
            "cell_type": "code",
            "execution_count": 28,
            "metadata": {},
            "outputs": [
                {
                    "data": {
                        "text/plain": [
                            "57    -1.836269\n",
                            "58     1.225116\n",
                            "59     4.863282\n",
                            "60     5.997114\n",
                            "61     5.321586\n",
                            "         ...   \n",
                            "165    6.159232\n",
                            "166    3.605658\n",
                            "167    2.460170\n",
                            "168    0.000000\n",
                            "169    0.222903\n",
                            "Name: INF, Length: 113, dtype: float64"
                        ]
                    },
                    "execution_count": 28,
                    "metadata": {},
                    "output_type": "execute_result"
                }
            ],
            "source": [
                "data_insample =dt[1:103]\n",
                "data_outsample =dt[103:113]\n",
                "dt"
            ]
        },
        {
            "cell_type": "code",
            "execution_count": 30,
            "metadata": {},
            "outputs": [
                {
                    "name": "stderr",
                    "output_type": "stream",
                    "text": "C:\\Users\\rluck\\anaconda3\\lib\\site-packages\\statsmodels\\tsa\\base\\tsa_model.py:578: ValueWarning: An unsupported index was provided and will be ignored when e.g. forecasting.\n  warnings.warn('An unsupported index was provided and will be'\nC:\\Users\\rluck\\anaconda3\\lib\\site-packages\\statsmodels\\tsa\\base\\tsa_model.py:578: ValueWarning: An unsupported index was provided and will be ignored when e.g. forecasting.\n  warnings.warn('An unsupported index was provided and will be'\nC:\\Users\\rluck\\anaconda3\\lib\\site-packages\\statsmodels\\tsa\\base\\tsa_model.py:578: ValueWarning: An unsupported index was provided and will be ignored when e.g. forecasting.\n  warnings.warn('An unsupported index was provided and will be'\n"
                }
            ],
            "source": [
                "\n",
                "model = ARIMA(endog=dt.dropna(), order=(1, 0, 1))\n",
                "results = model.fit()\n",
                ""
            ]
        },
        {
            "cell_type": "code",
            "execution_count": 31,
            "metadata": {},
            "outputs": [
                {
                    "name": "stderr",
                    "output_type": "stream",
                    "text": "C:\\Users\\rluck\\anaconda3\\lib\\site-packages\\statsmodels\\tsa\\base\\tsa_model.py:376: ValueWarning: No supported index is available. Prediction results will be given with an integer index beginning at `start`.\n  warnings.warn('No supported index is available.'\n"
                },
                {
                    "data": {
                        "image/png": "[encoded data removed]",
                        "text/plain": [
                            "\u003cFigure size 432x288 with 1 Axes\u003e"
                        ]
                    },
                    "metadata": {
                        "needs_background": "light"
                    },
                    "output_type": "display_data"
                }
            ],
            "source": [
                "#95% confidence interval in static forecast\n",
                "predict = results.get_prediction(57,170, dynamic=False)\n",
                "pred_ci = predict.conf_int()\n",
                "#plotting\n",
                "ax = dt.plot()\n",
                "predict.predicted_mean.plot(ax=ax, label='Forecast',alpha=.7)\n",
                "#CI\n",
                "ax.fill_between(pred_ci.index,\n",
                "                pred_ci.iloc[:, 0],\n",
                "                pred_ci.iloc[:, 1], color='k', alpha=.2)\n",
                "ax.set_xlabel('OBS')\n",
                "ax.set_ylabel('Returns')\n",
                "plt.plot(data_insample, label='In-sample data', alpha=.7)\n",
                "plt.plot(data_outsample,label='Out-of-sample data',color='red' ,alpha=.7)\n",
                "plt.legend(title='Static Forecast')\n",
                "plt.legend()\n",
                "plt.show()"
            ]
        },
        {
            "cell_type": "code",
            "execution_count": 32,
            "metadata": {},
            "outputs": [
                {
                    "name": "stderr",
                    "output_type": "stream",
                    "text": "C:\\Users\\rluck\\anaconda3\\lib\\site-packages\\statsmodels\\tsa\\base\\tsa_model.py:376: ValueWarning: No supported index is available. Prediction results will be given with an integer index beginning at `start`.\n  warnings.warn('No supported index is available.'\n"
                },
                {
                    "data": {
                        "image/png": "[encoded data removed]",
                        "text/plain": [
                            "\u003cFigure size 432x288 with 1 Axes\u003e"
                        ]
                    },
                    "metadata": {
                        "needs_background": "light"
                    },
                    "output_type": "display_data"
                }
            ],
            "source": [
                "#95% confidence interval in dynamic forecast\n",
                "predict = results.get_prediction(57,170, dynamic=True)\n",
                "pred_ci = predict.conf_int()\n",
                "#plotting\n",
                "ax = dt.plot()\n",
                "predict.predicted_mean.plot(ax=ax, label='Forecast',alpha=.7)\n",
                "#CI\n",
                "ax.fill_between(pred_ci.index,\n",
                "                pred_ci.iloc[:, 0],\n",
                "                pred_ci.iloc[:, 1], color='k', alpha=.2)\n",
                "ax.set_xlabel('OBS')\n",
                "ax.set_ylabel('Returns')\n",
                "plt.plot(data_insample, label='In-sample data', alpha=.7)\n",
                "plt.plot(data_outsample,label='Out-of-sample data',color='red' ,alpha=.7)\n",
                "plt.legend(title='Static Forecast')\n",
                "plt.legend()\n",
                "plt.show()\n",
                ""
            ]
        },
        {
            "cell_type": "code",
            "execution_count": 33,
            "metadata": {},
            "outputs": [
                {
                    "name": "stdout",
                    "output_type": "stream",
                    "text": "mean squared error for static forecast:9.834067658712163\nmean squared error for dynamic forecast:10.04301105135545\n"
                },
                {
                    "name": "stderr",
                    "output_type": "stream",
                    "text": "C:\\Users\\rluck\\anaconda3\\lib\\site-packages\\statsmodels\\tsa\\base\\tsa_model.py:376: ValueWarning: No supported index is available. Prediction results will be given with an integer index beginning at `start`.\n  warnings.warn('No supported index is available.'\nC:\\Users\\rluck\\anaconda3\\lib\\site-packages\\statsmodels\\tsa\\base\\tsa_model.py:376: ValueWarning: No supported index is available. Prediction results will be given with an integer index beginning at `start`.\n  warnings.warn('No supported index is available.'\n"
                }
            ],
            "source": [
                "from sklearn.metrics import mean_squared_error \n",
                "from sklearn.metrics import mean_squared_error \n",
                "pred_s= results.predict(57,169,dynamic =False)\n",
                "stats_s= mean_squared_error(dt,pred_s)\n",
                "print('mean squared error for static forecast:{}'.format(stats_s))\n",
                "pred_d= results.predict(57,169,dynamic =True)\n",
                "stats_d= mean_squared_error(dt,pred_d)\n",
                "print('mean squared error for dynamic forecast:{}'.format(stats_d))"
            ]
        },
        {
            "cell_type": "code",
            "execution_count": 0,
            "metadata": {},
            "outputs": [],
            "source": [
                ""
            ]
        },
        {
            "cell_type": "code",
            "execution_count": 0,
            "metadata": {},
            "outputs": [],
            "source": [
                ""
            ]
        }
    ]
}
