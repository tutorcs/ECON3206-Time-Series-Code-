{
    "metadata": {
        "kernelspec": {
            "name": "python3",
            "display_name": "Python 3",
            "language": "python"
        }
    },
    "nbformat": 4,
    "nbformat_minor": 5,
    "cells": [
        {
            "attachments": {},
            "cell_type": "markdown",
            "metadata": {},
            "source": [
                "# Import Packages"
            ]
        },
        {
            "cell_type": "code",
            "execution_count": 14,
            "metadata": {},
            "outputs": [
                {
                    "name": "stdout",
                    "output_type": "stream",
                    "text": "Defaulting to user installation because normal site-packages is not writeable\r\n\u001b[33mWARNING: Retrying (Retry(total=4, connect=None, read=None, redirect=None, status=None)) after connection broken by 'NewConnectionError('\u003curllib3.connection.HTTPSConnection object at 0x7f866d054340\u003e: Failed to establish a new connection: [Errno -3] Temporary failure in name resolution')': /simple/yfinance/\u001b[0m\r\n\u001b[33mWARNING: Retrying (Retry(total=3, connect=None, read=None, redirect=None, status=None)) after connection broken by 'NewConnectionError('\u003curllib3.connection.HTTPSConnection object at 0x7f866d054550\u003e: Failed to establish a new connection: [Errno -3] Temporary failure in name resolution')': /simple/yfinance/\u001b[0m\r\n\u001b[33mWARNING: Retrying (Retry(total=2, connect=None, read=None, redirect=None, status=None)) after connection broken by 'NewConnectionError('\u003curllib3.connection.HTTPSConnection object at 0x7f866d054700\u003e: Failed to establish a new connection: [Errno -3] Temporary failure in name resolution')': /simple/yfinance/\u001b[0m\r\n\u001b[33mWARNING: Retrying (Retry(total=1, connect=None, read=None, redirect=None, status=None)) after connection broken by 'NewConnectionError('\u003curllib3.connection.HTTPSConnection object at 0x7f866d0548b0\u003e: Failed to establish a new connection: [Errno -3] Temporary failure in name resolution')': /simple/yfinance/\u001b[0m\r\n\u001b[33mWARNING: Retrying (Retry(total=0, connect=None, read=None, redirect=None, status=None)) after connection broken by 'NewConnectionError('\u003curllib3.connection.HTTPSConnection object at 0x7f866d054a60\u003e: Failed to establish a new connection: [Errno -3] Temporary failure in name resolution')': /simple/yfinance/\u001b[0m\r\n\u001b[31mERROR: Could not find a version that satisfies the requirement yfinance\u001b[0m\r\n\u001b[31mERROR: No matching distribution found for yfinance\u001b[0m\r\n"
                }
            ],
            "source": [
                "!pip install yfinance"
            ]
        },
        {
            "cell_type": "code",
            "execution_count": 15,
            "metadata": {},
            "outputs": [
                {
                    "ename": "ModuleNotFoundError",
                    "evalue": "No module named 'yfinance'",
                    "output_type": "error",
                    "traceback": [
                        "\u001b[0;31m---------------------------------------------------------------------------\u001b[0m",
                        "\u001b[0;31mModuleNotFoundError\u001b[0m                       Traceback (most recent call last)",
                        "\u001b[0;32m\u003cipython-input-1-46bce622246e\u003e\u001b[0m in \u001b[0;36m\u003cmodule\u003e\u001b[0;34m\u001b[0m\n\u001b[1;32m      5\u001b[0m \u001b[0;32mimport\u001b[0m \u001b[0mstatsmodels\u001b[0m\u001b[0;34m.\u001b[0m\u001b[0mformula\u001b[0m\u001b[0;34m.\u001b[0m\u001b[0mapi\u001b[0m \u001b[0;32mas\u001b[0m \u001b[0msmf\u001b[0m\u001b[0;34m\u001b[0m\u001b[0;34m\u001b[0m\u001b[0m\n\u001b[1;32m      6\u001b[0m \u001b[0;32mimport\u001b[0m \u001b[0mstatsmodels\u001b[0m\u001b[0;34m.\u001b[0m\u001b[0mapi\u001b[0m \u001b[0;32mas\u001b[0m \u001b[0msm\u001b[0m\u001b[0;34m\u001b[0m\u001b[0;34m\u001b[0m\u001b[0m\n\u001b[0;32m----\u003e 7\u001b[0;31m \u001b[0;32mimport\u001b[0m \u001b[0myfinance\u001b[0m \u001b[0;32mas\u001b[0m \u001b[0myf\u001b[0m\u001b[0;34m\u001b[0m\u001b[0;34m\u001b[0m\u001b[0m\n\u001b[0m",
                        "\u001b[0;31mModuleNotFoundError\u001b[0m: No module named 'yfinance'"
                    ]
                }
            ],
            "source": [
                "import pandas as pd\n",
                "import pandas_datareader as dat\n",
                "import numpy as np\n",
                "import matplotlib.pyplot as plt\n",
                "import statsmodels.formula.api as smf\n",
                "import statsmodels.api as sm\n",
                "import yfinance as yf"
            ]
        },
        {
            "attachments": {},
            "cell_type": "markdown",
            "metadata": {},
            "source": [
                "# Reading data from yahoo finance"
            ]
        },
        {
            "cell_type": "code",
            "execution_count": 18,
            "metadata": {},
            "outputs": [],
            "source": [
                "#S\u0026P500 =sp\n",
                "sp = yf.Ticker(\"^GSPC\").history(\n",
                "                       start='2016-1-1', \n",
                "                       end='2021-5-25')\n",
                "#Stock (Nike)= st\n",
                "st = yf.Ticker(\"NKE\").history(\n",
                "                       start='2016-1-1', \n",
                "                       end='2021-5-25')\n",
                "#Wilshire 5000 index\n",
                "wls= yf.Ticker(\"^W5000\").history(\n",
                "                       start='2016-1-1', \n",
                "                       end='2021-5-25')\n",
                "#Russell 1000 value index\n",
                "rlv = yf.Ticker(\"^RLV\").history(\n",
                "                       start='2016-1-1', \n",
                "                       end='2021-5-25')\n",
                "#Risk-free rate (Rf)\n",
                "rf=sp = yf.Ticker(\"^IRX\").history(\n",
                "                       start='2016-1-1', \n",
                "                       end='2021-5-25')"
            ]
        },
        {
            "attachments": {},
            "cell_type": "markdown",
            "metadata": {},
            "source": [
                "# Computing Annualised Returns"
            ]
        },
        {
            "attachments": {},
            "cell_type": "markdown",
            "metadata": {},
            "source": [
                "$R = 365*ln (p_t/p_{t-1})$"
            ]
        },
        {
            "cell_type": "code",
            "execution_count": 23,
            "metadata": {},
            "outputs": [],
            "source": [
                "#Stock returns\n",
                "R =365*np.log(st['Close']/st['Close'].shift(1)).dropna()\n",
                "#Market Index returns: S\u0026P500\n",
                "M =365*np.log(sp['Close']/sp['Close'].shift(1)).dropna()\n",
                "#Size index: Wilshire 5000 index\n",
                "S =365*np.log(wls['Close']/wls['Close'].shift(1)).dropna()\n",
                "#Value index: Russell 1000 value index \n",
                "V =365*np.log(rlv['Close']/rlv['Close'].shift(1)).dropna()\n",
                "#Risk-free rate returns\n",
                "Rf =(rf['Close']/100).dropna()"
            ]
        },
        {
            "cell_type": "code",
            "execution_count": 24,
            "metadata": {},
            "outputs": [
                {
                    "data": {
                        "text/plain": [
                            "(['r_n', 'r_m', 'r_s', 'r_v', 'r_f'],\n",
                            " [0.22097377174128316,\n",
                            "  -1.2601600891232916,\n",
                            "  0.19615357580874776,\n",
                            "  0.13237680706892826,\n",
                            "  0.010230334309814671])"
                        ]
                    },
                    "execution_count": 24,
                    "metadata": {},
                    "output_type": "execute_result"
                }
            ],
            "source": [
                "#Determining the mean returns of NIKE, S\u0026P500, Wilshire 5000 index, Russell 1000 value index\n",
                "name= ['r_n','r_m','r_s','r_v','r_f']\n",
                "mean=[R.mean(),M.mean(), S.mean(),V.mean(),Rf.mean()]\n",
                "ret= (name,mean)\n",
                "ret"
            ]
        },
        {
            "cell_type": "code",
            "execution_count": 25,
            "metadata": {},
            "outputs": [
                {
                    "data": {
                        "text/plain": [
                            "(['s_n', 's_m', 's_s', 's_v', 's_f'],\n",
                            " [6.444606637495693,\n",
                            "  59.28057766874355,\n",
                            "  4.4475397913934795,\n",
                            "  4.459231818857248,\n",
                            "  0.008357364178046637])"
                        ]
                    },
                    "execution_count": 25,
                    "metadata": {},
                    "output_type": "execute_result"
                }
            ],
            "source": [
                "# Determining the volatilites of NIKE stock, S\u0026P500 index, Wilshire 5000 index and Russell 1000 value index\n",
                "name= ['s_n','s_m','s_s','s_v','s_f']\n",
                "std=[R.var()**0.5,M.var()**0.5, S.var()**0.5,V.var()**0.5,Rf.var()**0.5]\n",
                "std= (name,std)\n",
                "std"
            ]
        },
        {
            "attachments": {},
            "cell_type": "markdown",
            "metadata": {},
            "source": [
                "# Merging the columns into in one worksheet"
            ]
        },
        {
            "cell_type": "code",
            "execution_count": 26,
            "metadata": {},
            "outputs": [],
            "source": [
                "dt_M =pd.merge(M,Rf, on='Date', how='left').dropna()\n",
                "dt =pd.merge(dt_M,R, on='Date', how='left').dropna()\n",
                "dt_1= pd.merge(dt,S, on ='Date', how='left').dropna()\n",
                "dta= pd.merge(dt_1,V, on='Date', how='left').dropna()"
            ]
        },
        {
            "attachments": {},
            "cell_type": "markdown",
            "metadata": {},
            "source": [
                "# Renaming the Row Header"
            ]
        },
        {
            "cell_type": "code",
            "execution_count": 27,
            "metadata": {},
            "outputs": [
                {
                    "data": {
                        "text/html": [
                            "\u003cdiv\u003e\n",
                            "\u003cstyle scoped\u003e\n",
                            "    .dataframe tbody tr th:only-of-type {\n",
                            "        vertical-align: middle;\n",
                            "    }\n",
                            "\n",
                            "    .dataframe tbody tr th {\n",
                            "        vertical-align: top;\n",
                            "    }\n",
                            "\n",
                            "    .dataframe thead th {\n",
                            "        text-align: right;\n",
                            "    }\n",
                            "\u003c/style\u003e\n",
                            "\u003ctable border=\"1\" class=\"dataframe\"\u003e\n",
                            "  \u003cthead\u003e\n",
                            "    \u003ctr style=\"text-align: right;\"\u003e\n",
                            "      \u003cth\u003e\u003c/th\u003e\n",
                            "      \u003cth\u003eM\u003c/th\u003e\n",
                            "      \u003cth\u003eRf\u003c/th\u003e\n",
                            "      \u003cth\u003eSt\u003c/th\u003e\n",
                            "      \u003cth\u003eS\u003c/th\u003e\n",
                            "      \u003cth\u003eV\u003c/th\u003e\n",
                            "    \u003c/tr\u003e\n",
                            "    \u003ctr\u003e\n",
                            "      \u003cth\u003eDate\u003c/th\u003e\n",
                            "      \u003cth\u003e\u003c/th\u003e\n",
                            "      \u003cth\u003e\u003c/th\u003e\n",
                            "      \u003cth\u003e\u003c/th\u003e\n",
                            "      \u003cth\u003e\u003c/th\u003e\n",
                            "      \u003cth\u003e\u003c/th\u003e\n",
                            "    \u003c/tr\u003e\n",
                            "  \u003c/thead\u003e\n",
                            "  \u003ctbody\u003e\n",
                            "    \u003ctr\u003e\n",
                            "      \u003cth\u003e2016-01-04\u003c/th\u003e\n",
                            "      \u003ctd\u003e16.867686\u003c/td\u003e\n",
                            "      \u003ctd\u003e0.00155\u003c/td\u003e\n",
                            "      \u003ctd\u003e-5.768505\u003c/td\u003e\n",
                            "      \u003ctd\u003e-5.673750\u003c/td\u003e\n",
                            "      \u003ctd\u003e-4.756967\u003c/td\u003e\n",
                            "    \u003c/tr\u003e\n",
                            "    \u003ctr\u003e\n",
                            "      \u003cth\u003e2016-01-05\u003c/th\u003e\n",
                            "      \u003ctd\u003e102.048469\u003c/td\u003e\n",
                            "      \u003ctd\u003e0.00205\u003c/td\u003e\n",
                            "      \u003ctd\u003e5.067068\u003c/td\u003e\n",
                            "      \u003ctd\u003e0.674867\u003c/td\u003e\n",
                            "      \u003ctd\u003e0.960959\u003c/td\u003e\n",
                            "    \u003c/tr\u003e\n",
                            "    \u003ctr\u003e\n",
                            "      \u003cth\u003e2016-01-06\u003c/th\u003e\n",
                            "      \u003ctd\u003e0.000000\u003c/td\u003e\n",
                            "      \u003ctd\u003e0.00205\u003c/td\u003e\n",
                            "      \u003ctd\u003e-5.245099\u003c/td\u003e\n",
                            "      \u003ctd\u003e-5.043475\u003c/td\u003e\n",
                            "      \u003ctd\u003e-5.916716\u003c/td\u003e\n",
                            "    \u003c/tr\u003e\n",
                            "    \u003ctr\u003e\n",
                            "      \u003cth\u003e2016-01-07\u003c/th\u003e\n",
                            "      \u003ctd\u003e-27.734857\u003c/td\u003e\n",
                            "      \u003ctd\u003e0.00190\u003c/td\u003e\n",
                            "      \u003ctd\u003e-9.867127\u003c/td\u003e\n",
                            "      \u003ctd\u003e-9.041746\u003c/td\u003e\n",
                            "      \u003ctd\u003e-8.455889\u003c/td\u003e\n",
                            "    \u003c/tr\u003e\n",
                            "    \u003ctr\u003e\n",
                            "      \u003cth\u003e2016-01-08\u003c/th\u003e\n",
                            "      \u003ctd\u003e0.000000\u003c/td\u003e\n",
                            "      \u003ctd\u003e0.00190\u003c/td\u003e\n",
                            "      \u003ctd\u003e-6.026039\u003c/td\u003e\n",
                            "      \u003ctd\u003e-4.063790\u003c/td\u003e\n",
                            "      \u003ctd\u003e-4.517930\u003c/td\u003e\n",
                            "    \u003c/tr\u003e\n",
                            "    \u003ctr\u003e\n",
                            "      \u003cth\u003e...\u003c/th\u003e\n",
                            "      \u003ctd\u003e...\u003c/td\u003e\n",
                            "      \u003ctd\u003e...\u003c/td\u003e\n",
                            "      \u003ctd\u003e...\u003c/td\u003e\n",
                            "      \u003ctd\u003e...\u003c/td\u003e\n",
                            "      \u003ctd\u003e...\u003c/td\u003e\n",
                            "    \u003c/tr\u003e\n",
                            "    \u003ctr\u003e\n",
                            "      \u003cth\u003e2021-05-18\u003c/th\u003e\n",
                            "      \u003ctd\u003e252.998721\u003c/td\u003e\n",
                            "      \u003ctd\u003e0.00010\u003c/td\u003e\n",
                            "      \u003ctd\u003e-2.281533\u003c/td\u003e\n",
                            "      \u003ctd\u003e-2.558221\u003c/td\u003e\n",
                            "      \u003ctd\u003e-3.413909\u003c/td\u003e\n",
                            "    \u003c/tr\u003e\n",
                            "    \u003ctr\u003e\n",
                            "      \u003cth\u003e2021-05-19\u003c/th\u003e\n",
                            "      \u003ctd\u003e-252.998721\u003c/td\u003e\n",
                            "      \u003ctd\u003e0.00005\u003c/td\u003e\n",
                            "      \u003ctd\u003e-7.068576\u003c/td\u003e\n",
                            "      \u003ctd\u003e-1.279263\u003c/td\u003e\n",
                            "      \u003ctd\u003e-4.202521\u003c/td\u003e\n",
                            "    \u003c/tr\u003e\n",
                            "    \u003ctr\u003e\n",
                            "      \u003cth\u003e2021-05-20\u003c/th\u003e\n",
                            "      \u003ctd\u003e-186.451341\u003c/td\u003e\n",
                            "      \u003ctd\u003e0.00003\u003c/td\u003e\n",
                            "      \u003ctd\u003e0.850007\u003c/td\u003e\n",
                            "      \u003ctd\u003e4.053303\u003c/td\u003e\n",
                            "      \u003ctd\u003e2.184694\u003c/td\u003e\n",
                            "    \u003c/tr\u003e\n",
                            "    \u003ctr\u003e\n",
                            "      \u003cth\u003e2021-05-21\u003c/th\u003e\n",
                            "      \u003ctd\u003e0.000000\u003c/td\u003e\n",
                            "      \u003ctd\u003e0.00003\u003c/td\u003e\n",
                            "      \u003ctd\u003e-1.674484\u003c/td\u003e\n",
                            "      \u003ctd\u003e-0.180701\u003c/td\u003e\n",
                            "      \u003ctd\u003e3.541917\u003c/td\u003e\n",
                            "    \u003c/tr\u003e\n",
                            "    \u003ctr\u003e\n",
                            "      \u003cth\u003e2021-05-24\u003c/th\u003e\n",
                            "      \u003ctd\u003e0.000000\u003c/td\u003e\n",
                            "      \u003ctd\u003e0.00003\u003c/td\u003e\n",
                            "      \u003ctd\u003e3.831742\u003c/td\u003e\n",
                            "      \u003ctd\u003e3.592793\u003c/td\u003e\n",
                            "      \u003ctd\u003e1.392827\u003c/td\u003e\n",
                            "    \u003c/tr\u003e\n",
                            "  \u003c/tbody\u003e\n",
                            "\u003c/table\u003e\n",
                            "\u003cp\u003e1337 rows × 5 columns\u003c/p\u003e\n",
                            "\u003c/div\u003e"
                        ],
                        "text/plain": [
                            "                     M       Rf        St         S         V\n",
                            "Date                                                         \n",
                            "2016-01-04   16.867686  0.00155 -5.768505 -5.673750 -4.756967\n",
                            "2016-01-05  102.048469  0.00205  5.067068  0.674867  0.960959\n",
                            "2016-01-06    0.000000  0.00205 -5.245099 -5.043475 -5.916716\n",
                            "2016-01-07  -27.734857  0.00190 -9.867127 -9.041746 -8.455889\n",
                            "2016-01-08    0.000000  0.00190 -6.026039 -4.063790 -4.517930\n",
                            "...                ...      ...       ...       ...       ...\n",
                            "2021-05-18  252.998721  0.00010 -2.281533 -2.558221 -3.413909\n",
                            "2021-05-19 -252.998721  0.00005 -7.068576 -1.279263 -4.202521\n",
                            "2021-05-20 -186.451341  0.00003  0.850007  4.053303  2.184694\n",
                            "2021-05-21    0.000000  0.00003 -1.674484 -0.180701  3.541917\n",
                            "2021-05-24    0.000000  0.00003  3.831742  3.592793  1.392827\n",
                            "\n",
                            "[1337 rows x 5 columns]"
                        ]
                    },
                    "execution_count": 27,
                    "metadata": {},
                    "output_type": "execute_result"
                }
            ],
            "source": [
                "dta_cols=['M','Rf','St','S','V']\n",
                "dta.columns =dta_cols\n",
                "dta"
            ]
        },
        {
            "attachments": {},
            "cell_type": "markdown",
            "metadata": {},
            "source": [
                "# OLS Regression to determine beta under APT (3-factor Model)"
            ]
        },
        {
            "cell_type": "code",
            "execution_count": 28,
            "metadata": {},
            "outputs": [
                {
                    "name": "stdout",
                    "output_type": "stream",
                    "text": "                            OLS Regression Results                            \n==============================================================================\nDep. Variable:                      y   R-squared:                       0.432\nModel:                            OLS   Adj. R-squared:                  0.430\nMethod:                 Least Squares   F-statistic:                     337.6\nDate:                Fri, 02 Jul 2021   Prob (F-statistic):          4.74e-163\nTime:                        20:51:30   Log-Likelihood:                -4007.6\nNo. Observations:                1337   AIC:                             8023.\nDf Residuals:                    1333   BIC:                             8044.\nDf Model:                           3                                         \nCovariance Type:            nonrobust                                         \n==============================================================================\n                 coef    std err          t      P\u003e|t|      [0.025      0.975]\n------------------------------------------------------------------------------\nconst          0.0635      0.133      0.478      0.633      -0.197       0.324\nRp             0.9601      0.030     31.657      0.000       0.901       1.020\nRs             0.7754      0.084      9.180      0.000       0.610       0.941\nRv             0.1873      0.084      2.222      0.026       0.022       0.353\n==============================================================================\nOmnibus:                      458.212   Durbin-Watson:                   2.060\nProb(Omnibus):                  0.000   Jarque-Bera (JB):             8258.868\nSkew:                           1.114   Prob(JB):                         0.00\nKurtosis:                      14.970   Cond. No.                         103.\n==============================================================================\n\nNotes:\n[1] Standard Errors assume that the covariance matrix of the errors is correctly specified.\n"
                }
            ],
            "source": [
                "#Factor Risk Premium\n",
                "dta['Rp']= dta['M']-dta['Rf']\n",
                "dta['Rs'] = dta['S']-dta['M']\n",
                "dta['Rv']= dta['V']-dta['M']\n",
                "#X \u0026 y Variables defined\n",
                "X = dta [['Rp','Rs','Rv']]\n",
                "X = sm.add_constant(X)\n",
                "y= dta.St-dta.Rf\n",
                "#OLS model\n",
                "model = sm.OLS(y,X).fit()\n",
                "predictions =model.predict(X)\n",
                "Q = model.summary()\n",
                "print(Q)"
            ]
        },
        {
            "cell_type": "code",
            "execution_count": 29,
            "metadata": {},
            "outputs": [],
            "source": [
                "#Determining the risk-free rate and factor risk premiums of NIKE, S\u0026P500, Wilshire 5000 index and Russell 1000 value index based on average.\n",
                "f_m = M.mean()-Rf.mean()\n",
                "f_s = S.mean()-M.mean()\n",
                "f_v = V.mean()-M.mean()\n",
                "r_f= Rf.mean()"
            ]
        },
        {
            "cell_type": "code",
            "execution_count": 30,
            "metadata": {},
            "outputs": [
                {
                    "data": {
                        "text/plain": [
                            "0.18060162154485404"
                        ]
                    },
                    "execution_count": 30,
                    "metadata": {},
                    "output_type": "execute_result"
                }
            ],
            "source": [
                "#Determining Expected Returns from APT given factor risk premiums\n",
                "ER = r_f + model.params['Rp']*f_m+model.params['Rs']*f_s+model.params['Rv']*f_v\n",
                "ER"
            ]
        },
        {
            "cell_type": "code",
            "execution_count": 31,
            "metadata": {},
            "outputs": [
                {
                    "data": {
                        "text/plain": [
                            "0.04037215019642912"
                        ]
                    },
                    "execution_count": 31,
                    "metadata": {},
                    "output_type": "execute_result"
                }
            ],
            "source": [
                "#Determining Alpha (or excess returns)\n",
                "Alpha = R.mean()-ER\n",
                "Alpha"
            ]
        },
        {
            "cell_type": "code",
            "execution_count": 0,
            "metadata": {},
            "outputs": [],
            "source": [
                ""
            ]
        },
        {
            "cell_type": "code",
            "execution_count": 0,
            "metadata": {},
            "outputs": [],
            "source": [
                ""
            ]
        },
        {
            "cell_type": "code",
            "execution_count": 0,
            "metadata": {},
            "outputs": [],
            "source": [
                ""
            ]
        }
    ]
}
