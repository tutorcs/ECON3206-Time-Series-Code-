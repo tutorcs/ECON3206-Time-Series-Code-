{
    "metadata": {
        "kernelspec": {
            "name": "python3",
            "display_name": "Python 3",
            "language": "python"
        }
    },
    "nbformat": 4,
    "nbformat_minor": 4,
    "cells": [
        {
            "attachments": {},
            "cell_type": "markdown",
            "metadata": {},
            "source": [
                "# Calculate the daily log returns of T-Bill, gold, GE stock and market"
            ]
        },
        {
            "cell_type": "code",
            "execution_count": 92,
            "metadata": {},
            "outputs": [],
            "source": [
                "import pandas as pd\n",
                "import numpy as np\n",
                "import matplotlib.pyplot as plt"
            ]
        },
        {
            "cell_type": "code",
            "execution_count": 93,
            "metadata": {},
            "outputs": [
                {
                    "data": {
                        "text/html": [
                            "\u003cdiv\u003e\n",
                            "\u003cstyle scoped\u003e\n",
                            "    .dataframe tbody tr th:only-of-type {\n",
                            "        vertical-align: middle;\n",
                            "    }\n",
                            "\n",
                            "    .dataframe tbody tr th {\n",
                            "        vertical-align: top;\n",
                            "    }\n",
                            "\n",
                            "    .dataframe thead th {\n",
                            "        text-align: right;\n",
                            "    }\n",
                            "\u003c/style\u003e\n",
                            "\u003ctable border=\"1\" class=\"dataframe\"\u003e\n",
                            "  \u003cthead\u003e\n",
                            "    \u003ctr style=\"text-align: right;\"\u003e\n",
                            "      \u003cth\u003e\u003c/th\u003e\n",
                            "      \u003cth\u003eDATE\u003c/th\u003e\n",
                            "      \u003cth\u003eGold\u003c/th\u003e\n",
                            "      \u003cth\u003eS\u0026amp;P500\u003c/th\u003e\n",
                            "      \u003cth\u003eRf\u003c/th\u003e\n",
                            "      \u003cth\u003eGE\u003c/th\u003e\n",
                            "    \u003c/tr\u003e\n",
                            "  \u003c/thead\u003e\n",
                            "  \u003ctbody\u003e\n",
                            "    \u003ctr\u003e\n",
                            "      \u003cth\u003e0\u003c/th\u003e\n",
                            "      \u003ctd\u003e12/08/1975\u003c/td\u003e\n",
                            "      \u003ctd\u003e166.05\u003c/td\u003e\n",
                            "      \u003ctd\u003e87.12\u003c/td\u003e\n",
                            "      \u003ctd\u003e6.40\u003c/td\u003e\n",
                            "      \u003ctd\u003e0.9218\u003c/td\u003e\n",
                            "    \u003c/tr\u003e\n",
                            "    \u003ctr\u003e\n",
                            "      \u003cth\u003e1\u003c/th\u003e\n",
                            "      \u003ctd\u003e13/08/1975\u003c/td\u003e\n",
                            "      \u003ctd\u003e163.50\u003c/td\u003e\n",
                            "      \u003ctd\u003e85.97\u003c/td\u003e\n",
                            "      \u003ctd\u003e6.45\u003c/td\u003e\n",
                            "      \u003ctd\u003e0.9036\u003c/td\u003e\n",
                            "    \u003c/tr\u003e\n",
                            "    \u003ctr\u003e\n",
                            "      \u003cth\u003e2\u003c/th\u003e\n",
                            "      \u003ctd\u003e14/08/1975\u003c/td\u003e\n",
                            "      \u003ctd\u003e163.50\u003c/td\u003e\n",
                            "      \u003ctd\u003e85.60\u003c/td\u003e\n",
                            "      \u003ctd\u003e6.45\u003c/td\u003e\n",
                            "      \u003ctd\u003e0.9036\u003c/td\u003e\n",
                            "    \u003c/tr\u003e\n",
                            "    \u003ctr\u003e\n",
                            "      \u003cth\u003e3\u003c/th\u003e\n",
                            "      \u003ctd\u003e15/08/1975\u003c/td\u003e\n",
                            "      \u003ctd\u003e163.50\u003c/td\u003e\n",
                            "      \u003ctd\u003e86.36\u003c/td\u003e\n",
                            "      \u003ctd\u003e6.42\u003c/td\u003e\n",
                            "      \u003ctd\u003e0.9244\u003c/td\u003e\n",
                            "    \u003c/tr\u003e\n",
                            "    \u003ctr\u003e\n",
                            "      \u003cth\u003e4\u003c/th\u003e\n",
                            "      \u003ctd\u003e18/08/1975\u003c/td\u003e\n",
                            "      \u003ctd\u003e163.50\u003c/td\u003e\n",
                            "      \u003ctd\u003e86.20\u003c/td\u003e\n",
                            "      \u003ctd\u003e6.42\u003c/td\u003e\n",
                            "      \u003ctd\u003e0.9348\u003c/td\u003e\n",
                            "    \u003c/tr\u003e\n",
                            "    \u003ctr\u003e\n",
                            "      \u003cth\u003e...\u003c/th\u003e\n",
                            "      \u003ctd\u003e...\u003c/td\u003e\n",
                            "      \u003ctd\u003e...\u003c/td\u003e\n",
                            "      \u003ctd\u003e...\u003c/td\u003e\n",
                            "      \u003ctd\u003e...\u003c/td\u003e\n",
                            "      \u003ctd\u003e...\u003c/td\u003e\n",
                            "    \u003c/tr\u003e\n",
                            "    \u003ctr\u003e\n",
                            "      \u003cth\u003e10432\u003c/th\u003e\n",
                            "      \u003ctd\u003e6/08/2015\u003c/td\u003e\n",
                            "      \u003ctd\u003e1090.15\u003c/td\u003e\n",
                            "      \u003ctd\u003e2083.56\u003c/td\u003e\n",
                            "      \u003ctd\u003e0.04\u003c/td\u003e\n",
                            "      \u003ctd\u003e26.0300\u003c/td\u003e\n",
                            "    \u003c/tr\u003e\n",
                            "    \u003ctr\u003e\n",
                            "      \u003cth\u003e10433\u003c/th\u003e\n",
                            "      \u003ctd\u003e7/08/2015\u003c/td\u003e\n",
                            "      \u003ctd\u003e1096.85\u003c/td\u003e\n",
                            "      \u003ctd\u003e2077.57\u003c/td\u003e\n",
                            "      \u003ctd\u003e0.06\u003c/td\u003e\n",
                            "      \u003ctd\u003e25.7900\u003c/td\u003e\n",
                            "    \u003c/tr\u003e\n",
                            "    \u003ctr\u003e\n",
                            "      \u003cth\u003e10434\u003c/th\u003e\n",
                            "      \u003ctd\u003e10/08/2015\u003c/td\u003e\n",
                            "      \u003ctd\u003e1103.35\u003c/td\u003e\n",
                            "      \u003ctd\u003e2104.18\u003c/td\u003e\n",
                            "      \u003ctd\u003e0.12\u003c/td\u003e\n",
                            "      \u003ctd\u003e26.2400\u003c/td\u003e\n",
                            "    \u003c/tr\u003e\n",
                            "    \u003ctr\u003e\n",
                            "      \u003cth\u003e10435\u003c/th\u003e\n",
                            "      \u003ctd\u003e11/08/2015\u003c/td\u003e\n",
                            "      \u003ctd\u003e1109.67\u003c/td\u003e\n",
                            "      \u003ctd\u003e2084.07\u003c/td\u003e\n",
                            "      \u003ctd\u003e0.10\u003c/td\u003e\n",
                            "      \u003ctd\u003e25.7100\u003c/td\u003e\n",
                            "    \u003c/tr\u003e\n",
                            "    \u003ctr\u003e\n",
                            "      \u003cth\u003e10436\u003c/th\u003e\n",
                            "      \u003ctd\u003e12/08/2015\u003c/td\u003e\n",
                            "      \u003ctd\u003e1123.85\u003c/td\u003e\n",
                            "      \u003ctd\u003e2086.05\u003c/td\u003e\n",
                            "      \u003ctd\u003e0.10\u003c/td\u003e\n",
                            "      \u003ctd\u003e25.8600\u003c/td\u003e\n",
                            "    \u003c/tr\u003e\n",
                            "  \u003c/tbody\u003e\n",
                            "\u003c/table\u003e\n",
                            "\u003cp\u003e10437 rows × 5 columns\u003c/p\u003e\n",
                            "\u003c/div\u003e"
                        ],
                        "text/plain": [
                            "             DATE     Gold   S\u0026P500    Rf       GE\n",
                            "0      12/08/1975   166.05    87.12  6.40   0.9218\n",
                            "1      13/08/1975   163.50    85.97  6.45   0.9036\n",
                            "2      14/08/1975   163.50    85.60  6.45   0.9036\n",
                            "3      15/08/1975   163.50    86.36  6.42   0.9244\n",
                            "4      18/08/1975   163.50    86.20  6.42   0.9348\n",
                            "...           ...      ...      ...   ...      ...\n",
                            "10432   6/08/2015  1090.15  2083.56  0.04  26.0300\n",
                            "10433   7/08/2015  1096.85  2077.57  0.06  25.7900\n",
                            "10434  10/08/2015  1103.35  2104.18  0.12  26.2400\n",
                            "10435  11/08/2015  1109.67  2084.07  0.10  25.7100\n",
                            "10436  12/08/2015  1123.85  2086.05  0.10  25.8600\n",
                            "\n",
                            "[10437 rows x 5 columns]"
                        ]
                    },
                    "execution_count": 93,
                    "metadata": {},
                    "output_type": "execute_result"
                }
            ],
            "source": [
                "data = pd.read_csv(\"C:\\\\Users\\\\rluck\\\\OneDrive\\\\capm.csv\", header=[4])\n",
                "data"
            ]
        },
        {
            "attachments": {},
            "cell_type": "markdown",
            "metadata": {},
            "source": [
                "#Computing log returns: R_gold = 100*ln(P_g/P_g-1)\n",
                "\n",
                "\n",
                "Rf = 100/360*ln(1+rf)"
            ]
        },
        {
            "cell_type": "code",
            "execution_count": 94,
            "metadata": {},
            "outputs": [
                {
                    "name": "stdout",
                    "output_type": "stream",
                    "text": "         DATE    Gold  S\u0026P500    Rf      GE    R_gold       R_f      R_GE  \\\n0  12/08/1975  166.05   87.12  6.40  0.9218       NaN  0.017232       NaN   \n1  13/08/1975  163.50   85.97  6.45  0.9036 -1.547596  0.017363 -1.994150   \n2  14/08/1975  163.50   85.60  6.45  0.9036  0.000000  0.017363  0.000000   \n3  15/08/1975  163.50   86.36  6.42  0.9244  0.000000  0.017284  2.275809   \n4  18/08/1975  163.50   86.20  6.42  0.9348  0.000000  0.017284  1.118772   \n\n        R_m  \n0       NaN  \n1 -1.328808  \n2 -0.431312  \n3  0.883932  \n4 -0.185443  \n"
                }
            ],
            "source": [
                "data['R_gold']=100*np.log(data['Gold']/data['Gold'].shift(1))\n",
                "data['R_f']= 100/360*np.log(1+data['Rf']/100)\n",
                "data['R_GE']= 100*np.log(data['GE']/data['GE'].shift(1))\n",
                "data['R_m']= 100*np.log(data['S\u0026P500']/data['S\u0026P500'].shift(1))\n",
                "print(data.head())"
            ]
        },
        {
            "attachments": {},
            "cell_type": "markdown",
            "metadata": {},
            "source": [
                "# Calculating excess returns for gold and GE"
            ]
        },
        {
            "cell_type": "code",
            "execution_count": 95,
            "metadata": {},
            "outputs": [
                {
                    "data": {
                        "text/html": [
                            "\u003cdiv\u003e\n",
                            "\u003cstyle scoped\u003e\n",
                            "    .dataframe tbody tr th:only-of-type {\n",
                            "        vertical-align: middle;\n",
                            "    }\n",
                            "\n",
                            "    .dataframe tbody tr th {\n",
                            "        vertical-align: top;\n",
                            "    }\n",
                            "\n",
                            "    .dataframe thead th {\n",
                            "        text-align: right;\n",
                            "    }\n",
                            "\u003c/style\u003e\n",
                            "\u003ctable border=\"1\" class=\"dataframe\"\u003e\n",
                            "  \u003cthead\u003e\n",
                            "    \u003ctr style=\"text-align: right;\"\u003e\n",
                            "      \u003cth\u003e\u003c/th\u003e\n",
                            "      \u003cth\u003eDATE\u003c/th\u003e\n",
                            "      \u003cth\u003eGold\u003c/th\u003e\n",
                            "      \u003cth\u003eS\u0026amp;P500\u003c/th\u003e\n",
                            "      \u003cth\u003eRf\u003c/th\u003e\n",
                            "      \u003cth\u003eGE\u003c/th\u003e\n",
                            "      \u003cth\u003eR_gold\u003c/th\u003e\n",
                            "      \u003cth\u003eR_f\u003c/th\u003e\n",
                            "      \u003cth\u003eR_GE\u003c/th\u003e\n",
                            "      \u003cth\u003eR_m\u003c/th\u003e\n",
                            "      \u003cth\u003eR_p\u003c/th\u003e\n",
                            "      \u003cth\u003eR_ge\u003c/th\u003e\n",
                            "      \u003cth\u003eR_go\u003c/th\u003e\n",
                            "    \u003c/tr\u003e\n",
                            "  \u003c/thead\u003e\n",
                            "  \u003ctbody\u003e\n",
                            "    \u003ctr\u003e\n",
                            "      \u003cth\u003e0\u003c/th\u003e\n",
                            "      \u003ctd\u003e12/08/1975\u003c/td\u003e\n",
                            "      \u003ctd\u003e166.05\u003c/td\u003e\n",
                            "      \u003ctd\u003e87.12\u003c/td\u003e\n",
                            "      \u003ctd\u003e6.40\u003c/td\u003e\n",
                            "      \u003ctd\u003e0.9218\u003c/td\u003e\n",
                            "      \u003ctd\u003eNaN\u003c/td\u003e\n",
                            "      \u003ctd\u003e0.017232\u003c/td\u003e\n",
                            "      \u003ctd\u003eNaN\u003c/td\u003e\n",
                            "      \u003ctd\u003eNaN\u003c/td\u003e\n",
                            "      \u003ctd\u003eNaN\u003c/td\u003e\n",
                            "      \u003ctd\u003eNaN\u003c/td\u003e\n",
                            "      \u003ctd\u003eNaN\u003c/td\u003e\n",
                            "    \u003c/tr\u003e\n",
                            "    \u003ctr\u003e\n",
                            "      \u003cth\u003e1\u003c/th\u003e\n",
                            "      \u003ctd\u003e13/08/1975\u003c/td\u003e\n",
                            "      \u003ctd\u003e163.50\u003c/td\u003e\n",
                            "      \u003ctd\u003e85.97\u003c/td\u003e\n",
                            "      \u003ctd\u003e6.45\u003c/td\u003e\n",
                            "      \u003ctd\u003e0.9036\u003c/td\u003e\n",
                            "      \u003ctd\u003e-1.547596\u003c/td\u003e\n",
                            "      \u003ctd\u003e0.017363\u003c/td\u003e\n",
                            "      \u003ctd\u003e-1.994150\u003c/td\u003e\n",
                            "      \u003ctd\u003e-1.328808\u003c/td\u003e\n",
                            "      \u003ctd\u003e-1.346171\u003c/td\u003e\n",
                            "      \u003ctd\u003e-2.011512\u003c/td\u003e\n",
                            "      \u003ctd\u003e-1.564958\u003c/td\u003e\n",
                            "    \u003c/tr\u003e\n",
                            "    \u003ctr\u003e\n",
                            "      \u003cth\u003e2\u003c/th\u003e\n",
                            "      \u003ctd\u003e14/08/1975\u003c/td\u003e\n",
                            "      \u003ctd\u003e163.50\u003c/td\u003e\n",
                            "      \u003ctd\u003e85.60\u003c/td\u003e\n",
                            "      \u003ctd\u003e6.45\u003c/td\u003e\n",
                            "      \u003ctd\u003e0.9036\u003c/td\u003e\n",
                            "      \u003ctd\u003e0.000000\u003c/td\u003e\n",
                            "      \u003ctd\u003e0.017363\u003c/td\u003e\n",
                            "      \u003ctd\u003e0.000000\u003c/td\u003e\n",
                            "      \u003ctd\u003e-0.431312\u003c/td\u003e\n",
                            "      \u003ctd\u003e-0.448674\u003c/td\u003e\n",
                            "      \u003ctd\u003e-0.017363\u003c/td\u003e\n",
                            "      \u003ctd\u003e-0.017363\u003c/td\u003e\n",
                            "    \u003c/tr\u003e\n",
                            "    \u003ctr\u003e\n",
                            "      \u003cth\u003e3\u003c/th\u003e\n",
                            "      \u003ctd\u003e15/08/1975\u003c/td\u003e\n",
                            "      \u003ctd\u003e163.50\u003c/td\u003e\n",
                            "      \u003ctd\u003e86.36\u003c/td\u003e\n",
                            "      \u003ctd\u003e6.42\u003c/td\u003e\n",
                            "      \u003ctd\u003e0.9244\u003c/td\u003e\n",
                            "      \u003ctd\u003e0.000000\u003c/td\u003e\n",
                            "      \u003ctd\u003e0.017284\u003c/td\u003e\n",
                            "      \u003ctd\u003e2.275809\u003c/td\u003e\n",
                            "      \u003ctd\u003e0.883932\u003c/td\u003e\n",
                            "      \u003ctd\u003e0.866648\u003c/td\u003e\n",
                            "      \u003ctd\u003e2.258525\u003c/td\u003e\n",
                            "      \u003ctd\u003e-0.017284\u003c/td\u003e\n",
                            "    \u003c/tr\u003e\n",
                            "    \u003ctr\u003e\n",
                            "      \u003cth\u003e4\u003c/th\u003e\n",
                            "      \u003ctd\u003e18/08/1975\u003c/td\u003e\n",
                            "      \u003ctd\u003e163.50\u003c/td\u003e\n",
                            "      \u003ctd\u003e86.20\u003c/td\u003e\n",
                            "      \u003ctd\u003e6.42\u003c/td\u003e\n",
                            "      \u003ctd\u003e0.9348\u003c/td\u003e\n",
                            "      \u003ctd\u003e0.000000\u003c/td\u003e\n",
                            "      \u003ctd\u003e0.017284\u003c/td\u003e\n",
                            "      \u003ctd\u003e1.118772\u003c/td\u003e\n",
                            "      \u003ctd\u003e-0.185443\u003c/td\u003e\n",
                            "      \u003ctd\u003e-0.202727\u003c/td\u003e\n",
                            "      \u003ctd\u003e1.101488\u003c/td\u003e\n",
                            "      \u003ctd\u003e-0.017284\u003c/td\u003e\n",
                            "    \u003c/tr\u003e\n",
                            "    \u003ctr\u003e\n",
                            "      \u003cth\u003e...\u003c/th\u003e\n",
                            "      \u003ctd\u003e...\u003c/td\u003e\n",
                            "      \u003ctd\u003e...\u003c/td\u003e\n",
                            "      \u003ctd\u003e...\u003c/td\u003e\n",
                            "      \u003ctd\u003e...\u003c/td\u003e\n",
                            "      \u003ctd\u003e...\u003c/td\u003e\n",
                            "      \u003ctd\u003e...\u003c/td\u003e\n",
                            "      \u003ctd\u003e...\u003c/td\u003e\n",
                            "      \u003ctd\u003e...\u003c/td\u003e\n",
                            "      \u003ctd\u003e...\u003c/td\u003e\n",
                            "      \u003ctd\u003e...\u003c/td\u003e\n",
                            "      \u003ctd\u003e...\u003c/td\u003e\n",
                            "      \u003ctd\u003e...\u003c/td\u003e\n",
                            "    \u003c/tr\u003e\n",
                            "    \u003ctr\u003e\n",
                            "      \u003cth\u003e10432\u003c/th\u003e\n",
                            "      \u003ctd\u003e6/08/2015\u003c/td\u003e\n",
                            "      \u003ctd\u003e1090.15\u003c/td\u003e\n",
                            "      \u003ctd\u003e2083.56\u003c/td\u003e\n",
                            "      \u003ctd\u003e0.04\u003c/td\u003e\n",
                            "      \u003ctd\u003e26.0300\u003c/td\u003e\n",
                            "      \u003ctd\u003e0.415484\u003c/td\u003e\n",
                            "      \u003ctd\u003e0.000111\u003c/td\u003e\n",
                            "      \u003ctd\u003e-0.268560\u003c/td\u003e\n",
                            "      \u003ctd\u003e-0.778318\u003c/td\u003e\n",
                            "      \u003ctd\u003e-0.778429\u003c/td\u003e\n",
                            "      \u003ctd\u003e-0.268671\u003c/td\u003e\n",
                            "      \u003ctd\u003e0.415373\u003c/td\u003e\n",
                            "    \u003c/tr\u003e\n",
                            "    \u003ctr\u003e\n",
                            "      \u003cth\u003e10433\u003c/th\u003e\n",
                            "      \u003ctd\u003e7/08/2015\u003c/td\u003e\n",
                            "      \u003ctd\u003e1096.85\u003c/td\u003e\n",
                            "      \u003ctd\u003e2077.57\u003c/td\u003e\n",
                            "      \u003ctd\u003e0.06\u003c/td\u003e\n",
                            "      \u003ctd\u003e25.7900\u003c/td\u003e\n",
                            "      \u003ctd\u003e0.612713\u003c/td\u003e\n",
                            "      \u003ctd\u003e0.000167\u003c/td\u003e\n",
                            "      \u003ctd\u003e-0.926290\u003c/td\u003e\n",
                            "      \u003ctd\u003e-0.287903\u003c/td\u003e\n",
                            "      \u003ctd\u003e-0.288069\u003c/td\u003e\n",
                            "      \u003ctd\u003e-0.926457\u003c/td\u003e\n",
                            "      \u003ctd\u003e0.612547\u003c/td\u003e\n",
                            "    \u003c/tr\u003e\n",
                            "    \u003ctr\u003e\n",
                            "      \u003cth\u003e10434\u003c/th\u003e\n",
                            "      \u003ctd\u003e10/08/2015\u003c/td\u003e\n",
                            "      \u003ctd\u003e1103.35\u003c/td\u003e\n",
                            "      \u003ctd\u003e2104.18\u003c/td\u003e\n",
                            "      \u003ctd\u003e0.12\u003c/td\u003e\n",
                            "      \u003ctd\u003e26.2400\u003c/td\u003e\n",
                            "      \u003ctd\u003e0.590857\u003c/td\u003e\n",
                            "      \u003ctd\u003e0.000333\u003c/td\u003e\n",
                            "      \u003ctd\u003e1.729814\u003c/td\u003e\n",
                            "      \u003ctd\u003e1.272690\u003c/td\u003e\n",
                            "      \u003ctd\u003e1.272357\u003c/td\u003e\n",
                            "      \u003ctd\u003e1.729481\u003c/td\u003e\n",
                            "      \u003ctd\u003e0.590524\u003c/td\u003e\n",
                            "    \u003c/tr\u003e\n",
                            "    \u003ctr\u003e\n",
                            "      \u003cth\u003e10435\u003c/th\u003e\n",
                            "      \u003ctd\u003e11/08/2015\u003c/td\u003e\n",
                            "      \u003ctd\u003e1109.67\u003c/td\u003e\n",
                            "      \u003ctd\u003e2084.07\u003c/td\u003e\n",
                            "      \u003ctd\u003e0.10\u003c/td\u003e\n",
                            "      \u003ctd\u003e25.7100\u003c/td\u003e\n",
                            "      \u003ctd\u003e0.571167\u003c/td\u003e\n",
                            "      \u003ctd\u003e0.000278\u003c/td\u003e\n",
                            "      \u003ctd\u003e-2.040494\u003c/td\u003e\n",
                            "      \u003ctd\u003e-0.960313\u003c/td\u003e\n",
                            "      \u003ctd\u003e-0.960591\u003c/td\u003e\n",
                            "      \u003ctd\u003e-2.040772\u003c/td\u003e\n",
                            "      \u003ctd\u003e0.570889\u003c/td\u003e\n",
                            "    \u003c/tr\u003e\n",
                            "    \u003ctr\u003e\n",
                            "      \u003cth\u003e10436\u003c/th\u003e\n",
                            "      \u003ctd\u003e12/08/2015\u003c/td\u003e\n",
                            "      \u003ctd\u003e1123.85\u003c/td\u003e\n",
                            "      \u003ctd\u003e2086.05\u003c/td\u003e\n",
                            "      \u003ctd\u003e0.10\u003c/td\u003e\n",
                            "      \u003ctd\u003e25.8600\u003c/td\u003e\n",
                            "      \u003ctd\u003e1.269762\u003c/td\u003e\n",
                            "      \u003ctd\u003e0.000278\u003c/td\u003e\n",
                            "      \u003ctd\u003e0.581735\u003c/td\u003e\n",
                            "      \u003ctd\u003e0.094961\u003c/td\u003e\n",
                            "      \u003ctd\u003e0.094684\u003c/td\u003e\n",
                            "      \u003ctd\u003e0.581458\u003c/td\u003e\n",
                            "      \u003ctd\u003e1.269484\u003c/td\u003e\n",
                            "    \u003c/tr\u003e\n",
                            "  \u003c/tbody\u003e\n",
                            "\u003c/table\u003e\n",
                            "\u003cp\u003e10437 rows × 12 columns\u003c/p\u003e\n",
                            "\u003c/div\u003e"
                        ],
                        "text/plain": [
                            "             DATE     Gold   S\u0026P500    Rf       GE    R_gold       R_f  \\\n",
                            "0      12/08/1975   166.05    87.12  6.40   0.9218       NaN  0.017232   \n",
                            "1      13/08/1975   163.50    85.97  6.45   0.9036 -1.547596  0.017363   \n",
                            "2      14/08/1975   163.50    85.60  6.45   0.9036  0.000000  0.017363   \n",
                            "3      15/08/1975   163.50    86.36  6.42   0.9244  0.000000  0.017284   \n",
                            "4      18/08/1975   163.50    86.20  6.42   0.9348  0.000000  0.017284   \n",
                            "...           ...      ...      ...   ...      ...       ...       ...   \n",
                            "10432   6/08/2015  1090.15  2083.56  0.04  26.0300  0.415484  0.000111   \n",
                            "10433   7/08/2015  1096.85  2077.57  0.06  25.7900  0.612713  0.000167   \n",
                            "10434  10/08/2015  1103.35  2104.18  0.12  26.2400  0.590857  0.000333   \n",
                            "10435  11/08/2015  1109.67  2084.07  0.10  25.7100  0.571167  0.000278   \n",
                            "10436  12/08/2015  1123.85  2086.05  0.10  25.8600  1.269762  0.000278   \n",
                            "\n",
                            "           R_GE       R_m       R_p      R_ge      R_go  \n",
                            "0           NaN       NaN       NaN       NaN       NaN  \n",
                            "1     -1.994150 -1.328808 -1.346171 -2.011512 -1.564958  \n",
                            "2      0.000000 -0.431312 -0.448674 -0.017363 -0.017363  \n",
                            "3      2.275809  0.883932  0.866648  2.258525 -0.017284  \n",
                            "4      1.118772 -0.185443 -0.202727  1.101488 -0.017284  \n",
                            "...         ...       ...       ...       ...       ...  \n",
                            "10432 -0.268560 -0.778318 -0.778429 -0.268671  0.415373  \n",
                            "10433 -0.926290 -0.287903 -0.288069 -0.926457  0.612547  \n",
                            "10434  1.729814  1.272690  1.272357  1.729481  0.590524  \n",
                            "10435 -2.040494 -0.960313 -0.960591 -2.040772  0.570889  \n",
                            "10436  0.581735  0.094961  0.094684  0.581458  1.269484  \n",
                            "\n",
                            "[10437 rows x 12 columns]"
                        ]
                    },
                    "execution_count": 95,
                    "metadata": {},
                    "output_type": "execute_result"
                }
            ],
            "source": [
                "data['R_p']= data['R_m']- data['R_f']\n",
                "data['R_ge']= data['R_GE']-data['R_f']\n",
                "data['R_go']= data['R_gold']-data['R_f']\n",
                "data"
            ]
        },
        {
            "attachments": {},
            "cell_type": "markdown",
            "metadata": {},
            "source": [
                "# Data : Remove N/A\n",
                ""
            ]
        },
        {
            "cell_type": "code",
            "execution_count": 96,
            "metadata": {},
            "outputs": [
                {
                    "data": {
                        "text/html": [
                            "\u003cdiv\u003e\n",
                            "\u003cstyle scoped\u003e\n",
                            "    .dataframe tbody tr th:only-of-type {\n",
                            "        vertical-align: middle;\n",
                            "    }\n",
                            "\n",
                            "    .dataframe tbody tr th {\n",
                            "        vertical-align: top;\n",
                            "    }\n",
                            "\n",
                            "    .dataframe thead th {\n",
                            "        text-align: right;\n",
                            "    }\n",
                            "\u003c/style\u003e\n",
                            "\u003ctable border=\"1\" class=\"dataframe\"\u003e\n",
                            "  \u003cthead\u003e\n",
                            "    \u003ctr style=\"text-align: right;\"\u003e\n",
                            "      \u003cth\u003e\u003c/th\u003e\n",
                            "      \u003cth\u003eDATE\u003c/th\u003e\n",
                            "      \u003cth\u003eGold\u003c/th\u003e\n",
                            "      \u003cth\u003eS\u0026amp;P500\u003c/th\u003e\n",
                            "      \u003cth\u003eRf\u003c/th\u003e\n",
                            "      \u003cth\u003eGE\u003c/th\u003e\n",
                            "      \u003cth\u003eR_gold\u003c/th\u003e\n",
                            "      \u003cth\u003eR_f\u003c/th\u003e\n",
                            "      \u003cth\u003eR_GE\u003c/th\u003e\n",
                            "      \u003cth\u003eR_m\u003c/th\u003e\n",
                            "      \u003cth\u003eR_p\u003c/th\u003e\n",
                            "      \u003cth\u003eR_ge\u003c/th\u003e\n",
                            "      \u003cth\u003eR_go\u003c/th\u003e\n",
                            "    \u003c/tr\u003e\n",
                            "  \u003c/thead\u003e\n",
                            "  \u003ctbody\u003e\n",
                            "    \u003ctr\u003e\n",
                            "      \u003cth\u003e1\u003c/th\u003e\n",
                            "      \u003ctd\u003e13/08/1975\u003c/td\u003e\n",
                            "      \u003ctd\u003e163.5\u003c/td\u003e\n",
                            "      \u003ctd\u003e85.97\u003c/td\u003e\n",
                            "      \u003ctd\u003e6.45\u003c/td\u003e\n",
                            "      \u003ctd\u003e0.9036\u003c/td\u003e\n",
                            "      \u003ctd\u003e-1.547596\u003c/td\u003e\n",
                            "      \u003ctd\u003e0.017363\u003c/td\u003e\n",
                            "      \u003ctd\u003e-1.994150\u003c/td\u003e\n",
                            "      \u003ctd\u003e-1.328808\u003c/td\u003e\n",
                            "      \u003ctd\u003e-1.346171\u003c/td\u003e\n",
                            "      \u003ctd\u003e-2.011512\u003c/td\u003e\n",
                            "      \u003ctd\u003e-1.564958\u003c/td\u003e\n",
                            "    \u003c/tr\u003e\n",
                            "    \u003ctr\u003e\n",
                            "      \u003cth\u003e2\u003c/th\u003e\n",
                            "      \u003ctd\u003e14/08/1975\u003c/td\u003e\n",
                            "      \u003ctd\u003e163.5\u003c/td\u003e\n",
                            "      \u003ctd\u003e85.60\u003c/td\u003e\n",
                            "      \u003ctd\u003e6.45\u003c/td\u003e\n",
                            "      \u003ctd\u003e0.9036\u003c/td\u003e\n",
                            "      \u003ctd\u003e0.000000\u003c/td\u003e\n",
                            "      \u003ctd\u003e0.017363\u003c/td\u003e\n",
                            "      \u003ctd\u003e0.000000\u003c/td\u003e\n",
                            "      \u003ctd\u003e-0.431312\u003c/td\u003e\n",
                            "      \u003ctd\u003e-0.448674\u003c/td\u003e\n",
                            "      \u003ctd\u003e-0.017363\u003c/td\u003e\n",
                            "      \u003ctd\u003e-0.017363\u003c/td\u003e\n",
                            "    \u003c/tr\u003e\n",
                            "    \u003ctr\u003e\n",
                            "      \u003cth\u003e3\u003c/th\u003e\n",
                            "      \u003ctd\u003e15/08/1975\u003c/td\u003e\n",
                            "      \u003ctd\u003e163.5\u003c/td\u003e\n",
                            "      \u003ctd\u003e86.36\u003c/td\u003e\n",
                            "      \u003ctd\u003e6.42\u003c/td\u003e\n",
                            "      \u003ctd\u003e0.9244\u003c/td\u003e\n",
                            "      \u003ctd\u003e0.000000\u003c/td\u003e\n",
                            "      \u003ctd\u003e0.017284\u003c/td\u003e\n",
                            "      \u003ctd\u003e2.275809\u003c/td\u003e\n",
                            "      \u003ctd\u003e0.883932\u003c/td\u003e\n",
                            "      \u003ctd\u003e0.866648\u003c/td\u003e\n",
                            "      \u003ctd\u003e2.258525\u003c/td\u003e\n",
                            "      \u003ctd\u003e-0.017284\u003c/td\u003e\n",
                            "    \u003c/tr\u003e\n",
                            "    \u003ctr\u003e\n",
                            "      \u003cth\u003e4\u003c/th\u003e\n",
                            "      \u003ctd\u003e18/08/1975\u003c/td\u003e\n",
                            "      \u003ctd\u003e163.5\u003c/td\u003e\n",
                            "      \u003ctd\u003e86.20\u003c/td\u003e\n",
                            "      \u003ctd\u003e6.42\u003c/td\u003e\n",
                            "      \u003ctd\u003e0.9348\u003c/td\u003e\n",
                            "      \u003ctd\u003e0.000000\u003c/td\u003e\n",
                            "      \u003ctd\u003e0.017284\u003c/td\u003e\n",
                            "      \u003ctd\u003e1.118772\u003c/td\u003e\n",
                            "      \u003ctd\u003e-0.185443\u003c/td\u003e\n",
                            "      \u003ctd\u003e-0.202727\u003c/td\u003e\n",
                            "      \u003ctd\u003e1.101488\u003c/td\u003e\n",
                            "      \u003ctd\u003e-0.017284\u003c/td\u003e\n",
                            "    \u003c/tr\u003e\n",
                            "    \u003ctr\u003e\n",
                            "      \u003cth\u003e5\u003c/th\u003e\n",
                            "      \u003ctd\u003e19/08/1975\u003c/td\u003e\n",
                            "      \u003ctd\u003e163.5\u003c/td\u003e\n",
                            "      \u003ctd\u003e84.95\u003c/td\u003e\n",
                            "      \u003ctd\u003e6.47\u003c/td\u003e\n",
                            "      \u003ctd\u003e0.9218\u003c/td\u003e\n",
                            "      \u003ctd\u003e0.000000\u003c/td\u003e\n",
                            "      \u003ctd\u003e0.017415\u003c/td\u003e\n",
                            "      \u003ctd\u003e-1.400432\u003c/td\u003e\n",
                            "      \u003ctd\u003e-1.460733\u003c/td\u003e\n",
                            "      \u003ctd\u003e-1.478148\u003c/td\u003e\n",
                            "      \u003ctd\u003e-1.417847\u003c/td\u003e\n",
                            "      \u003ctd\u003e-0.017415\u003c/td\u003e\n",
                            "    \u003c/tr\u003e\n",
                            "  \u003c/tbody\u003e\n",
                            "\u003c/table\u003e\n",
                            "\u003c/div\u003e"
                        ],
                        "text/plain": [
                            "         DATE   Gold  S\u0026P500    Rf      GE    R_gold       R_f      R_GE  \\\n",
                            "1  13/08/1975  163.5   85.97  6.45  0.9036 -1.547596  0.017363 -1.994150   \n",
                            "2  14/08/1975  163.5   85.60  6.45  0.9036  0.000000  0.017363  0.000000   \n",
                            "3  15/08/1975  163.5   86.36  6.42  0.9244  0.000000  0.017284  2.275809   \n",
                            "4  18/08/1975  163.5   86.20  6.42  0.9348  0.000000  0.017284  1.118772   \n",
                            "5  19/08/1975  163.5   84.95  6.47  0.9218  0.000000  0.017415 -1.400432   \n",
                            "\n",
                            "        R_m       R_p      R_ge      R_go  \n",
                            "1 -1.328808 -1.346171 -2.011512 -1.564958  \n",
                            "2 -0.431312 -0.448674 -0.017363 -0.017363  \n",
                            "3  0.883932  0.866648  2.258525 -0.017284  \n",
                            "4 -0.185443 -0.202727  1.101488 -0.017284  \n",
                            "5 -1.460733 -1.478148 -1.417847 -0.017415  "
                        ]
                    },
                    "execution_count": 96,
                    "metadata": {},
                    "output_type": "execute_result"
                }
            ],
            "source": [
                "data = data.dropna(subset=[\"R_p\"])\n",
                "data.to_csv(\"C:\\\\Users\\\\rluck\\\\OneDrive\\\\capm1.csv\")\n",
                "data.head()"
            ]
        },
        {
            "cell_type": "code",
            "execution_count": 97,
            "metadata": {},
            "outputs": [
                {
                    "name": "stdout",
                    "output_type": "stream",
                    "text": "Requirement already satisfied: sklearn in c:\\users\\rluck\\anaconda3\\lib\\site-packages (0.0)\nRequirement already satisfied: scikit-learn in c:\\users\\rluck\\anaconda3\\lib\\site-packages (from sklearn) (0.24.1)\nRequirement already satisfied: scipy\u003e=0.19.1 in c:\\users\\rluck\\anaconda3\\lib\\site-packages (from scikit-learn-\u003esklearn) (1.6.2)\nRequirement already satisfied: joblib\u003e=0.11 in c:\\users\\rluck\\anaconda3\\lib\\site-packages (from scikit-learn-\u003esklearn) (1.0.1)\nRequirement already satisfied: numpy\u003e=1.13.3 in c:\\users\\rluck\\anaconda3\\lib\\site-packages (from scikit-learn-\u003esklearn) (1.20.1)\nRequirement already satisfied: threadpoolctl\u003e=2.0.0 in c:\\users\\rluck\\anaconda3\\lib\\site-packages (from scikit-learn-\u003esklearn) (2.1.0)\nRequirement already satisfied: statsmodels in c:\\users\\rluck\\anaconda3\\lib\\site-packages (0.12.2)\nRequirement already satisfied: numpy\u003e=1.15 in c:\\users\\rluck\\anaconda3\\lib\\site-packages (from statsmodels) (1.20.1)\nRequirement already satisfied: scipy\u003e=1.1 in c:\\users\\rluck\\anaconda3\\lib\\site-packages (from statsmodels) (1.6.2)\nRequirement already satisfied: pandas\u003e=0.21 in c:\\users\\rluck\\anaconda3\\lib\\site-packages (from statsmodels) (1.2.4)\nRequirement already satisfied: patsy\u003e=0.5 in c:\\users\\rluck\\anaconda3\\lib\\site-packages (from statsmodels) (0.5.1)\nRequirement already satisfied: python-dateutil\u003e=2.7.3 in c:\\users\\rluck\\anaconda3\\lib\\site-packages (from pandas\u003e=0.21-\u003estatsmodels) (2.8.1)\nRequirement already satisfied: pytz\u003e=2017.3 in c:\\users\\rluck\\anaconda3\\lib\\site-packages (from pandas\u003e=0.21-\u003estatsmodels) (2021.1)\nRequirement already satisfied: six in c:\\users\\rluck\\anaconda3\\lib\\site-packages (from patsy\u003e=0.5-\u003estatsmodels) (1.15.0)\n"
                }
            ],
            "source": [
                "!pip install sklearn\n",
                "!pip install statsmodels"
            ]
        },
        {
            "cell_type": "code",
            "execution_count": 98,
            "metadata": {},
            "outputs": [],
            "source": [
                "%matplotlib inline\n",
                "import statsmodels.api as sm\n",
                "import statsmodels.formula.api as smf\n",
                "from sklearn import linear_model\n",
                "import matplotlib.pyplot as plt\n",
                ""
            ]
        },
        {
            "attachments": {},
            "cell_type": "markdown",
            "metadata": {},
            "source": [
                "# I. Plotting Gold excess returns with market excess returns"
            ]
        },
        {
            "cell_type": "code",
            "execution_count": 99,
            "metadata": {},
            "outputs": [],
            "source": [
                "#Regressing excess returns on gold (R_g-Rf) over risk-free rate against the excess market return (Rp=Rm-rf)\n",
                "reg = linear_model.LinearRegression()\n",
                "X =data[['R_p']].dropna()\n",
                "y1 =data['R_go'].dropna()\n",
                "reg.fit(X,y1)\n",
                "predictions =reg.predict(X)"
            ]
        },
        {
            "cell_type": "code",
            "execution_count": 100,
            "metadata": {},
            "outputs": [
                {
                    "data": {
                        "text/plain": [
                            "[\u003cmatplotlib.lines.Line2D at 0x18397b4e220\u003e]"
                        ]
                    },
                    "execution_count": 100,
                    "metadata": {},
                    "output_type": "execute_result"
                },
                {
                    "data": {
                        "image/png": "[encoded data removed]",
                        "text/plain": [
                            "\u003cFigure size 432x288 with 1 Axes\u003e"
                        ]
                    },
                    "metadata": {
                        "needs_background": "light"
                    },
                    "output_type": "display_data"
                }
            ],
            "source": [
                "plt.xlabel('Risk Premium')\n",
                "plt.ylabel('R_go')\n",
                "plt.scatter(data.R_p,data.R_gold,color='red',marker='+')\n",
                "plt.plot(data.R_p,reg.predict(data[['R_p']]), color='orange')\n",
                ""
            ]
        },
        {
            "cell_type": "code",
            "execution_count": 101,
            "metadata": {},
            "outputs": [
                {
                    "name": "stdout",
                    "output_type": "stream",
                    "text": "                            OLS Regression Results                            \n==============================================================================\nDep. Variable:                   R_go   R-squared:                       0.000\nModel:                            OLS   Adj. R-squared:                  0.000\nMethod:                 Least Squares   F-statistic:                     3.181\nDate:                Thu, 24 Jun 2021   Prob (F-statistic):             0.0745\nTime:                        13:42:13   Log-Likelihood:                -16959.\nNo. Observations:               10436   AIC:                         3.392e+04\nDf Residuals:                   10434   BIC:                         3.394e+04\nDf Model:                           1                                         \nCovariance Type:            nonrobust                                         \n==============================================================================\n                 coef    std err          t      P\u003e|t|      [0.025      0.975]\n------------------------------------------------------------------------------\nconst          0.0057      0.012      0.473      0.637      -0.018       0.029\nR_p           -0.0201      0.011     -1.784      0.075      -0.042       0.002\n==============================================================================\nOmnibus:                     2812.110   Durbin-Watson:                   2.071\nProb(Omnibus):                  0.000   Jarque-Bera (JB):           111926.422\nSkew:                          -0.573   Prob(JB):                         0.00\nKurtosis:                      19.003   Cond. No.                         1.07\n==============================================================================\n\nNotes:\n[1] Standard Errors assume that the covariance matrix of the errors is correctly specified.\n"
                }
            ],
            "source": [
                "#model with intercept\n",
                "X= sm.add_constant(X)\n",
                "model = sm.OLS(y1,X).fit()\n",
                "predictions = model.predict(X)\n",
                "j= (model.summary())\n",
                "print(j)"
            ]
        },
        {
            "attachments": {},
            "cell_type": "markdown",
            "metadata": {},
            "source": [
                "DW-stats of 2.071 is close to 2.0, implying that there is no serial correlation.\n",
                "\n",
                "Yet, the p-value of the beta coefficient indicates that it is slightly significant at 7.5% significance level and the R-squared is very low, explaining low explanatory power of the model."
            ]
        },
        {
            "attachments": {},
            "cell_type": "markdown",
            "metadata": {},
            "source": [
                "# Residuals plot for gold"
            ]
        },
        {
            "cell_type": "code",
            "execution_count": 102,
            "metadata": {},
            "outputs": [
                {
                    "name": "stderr",
                    "output_type": "stream",
                    "text": "C:\\Users\\rluck\\anaconda3\\lib\\site-packages\\seaborn\\distributions.py:2557: FutureWarning: `distplot` is a deprecated function and will be removed in a future version. Please adapt your code to use either `displot` (a figure-level function with similar flexibility) or `histplot` (an axes-level function for histograms).\n  warnings.warn(msg, FutureWarning)\n"
                },
                {
                    "data": {
                        "text/plain": [
                            "\u003cAxesSubplot:ylabel='Density'\u003e"
                        ]
                    },
                    "execution_count": 102,
                    "metadata": {},
                    "output_type": "execute_result"
                },
                {
                    "data": {
                        "image/png": "[encoded data removed]",
                        "text/plain": [
                            "\u003cFigure size 432x288 with 1 Axes\u003e"
                        ]
                    },
                    "metadata": {
                        "needs_background": "light"
                    },
                    "output_type": "display_data"
                }
            ],
            "source": [
                "residuals_go = model.resid\n",
                "import seaborn as sns\n",
                "sns.distplot(residuals_go,hist=True, kde=True, bins=int(120), color= 'darkblue',hist_kws={'edgecolor':'black'})"
            ]
        },
        {
            "cell_type": "code",
            "execution_count": 103,
            "metadata": {},
            "outputs": [
                {
                    "data": {
                        "text/plain": [
                            "Jarque_beraResult(statistic=111926.42195044507, pvalue=0.0)"
                        ]
                    },
                    "execution_count": 103,
                    "metadata": {},
                    "output_type": "execute_result"
                }
            ],
            "source": [
                "from scipy import stats\n",
                "JB_go= stats.jarque_bera(residuals_go)\n",
                "JB_go"
            ]
        },
        {
            "attachments": {},
            "cell_type": "markdown",
            "metadata": {},
            "source": [
                "The plot and JB test (p-value \u003c0.05) rejects the null hypothesis of normality. It is clearly a non-normal distribution."
            ]
        },
        {
            "attachments": {},
            "cell_type": "markdown",
            "metadata": {},
            "source": [
                "# Cusum Test for Gold"
            ]
        },
        {
            "cell_type": "code",
            "execution_count": 104,
            "metadata": {},
            "outputs": [
                {
                    "name": "stderr",
                    "output_type": "stream",
                    "text": "C:\\Users\\rluck\\anaconda3\\lib\\site-packages\\statsmodels\\tsa\\base\\tsa_model.py:578: ValueWarning: An unsupported index was provided and will be ignored when e.g. forecasting.\n  warnings.warn('An unsupported index was provided and will be'\n"
                },
                {
                    "data": {
                        "image/png": "[encoded data removed]",
                        "text/plain": [
                            "\u003cFigure size 720x432 with 1 Axes\u003e"
                        ]
                    },
                    "metadata": {
                        "needs_background": "light"
                    },
                    "output_type": "display_data"
                }
            ],
            "source": [
                "# endog = data.R_go\n",
                "Rp = data.R_p\n",
                "endog = data.R_go\n",
                "exog = sm.add_constant(Rp)\n",
                "mod = sm.RecursiveLS(endog,exog)\n",
                "res_1 = mod.fit()\n",
                "fig = res_1.plot_cusum(figsize=(10,6));"
            ]
        },
        {
            "attachments": {},
            "cell_type": "markdown",
            "metadata": {},
            "source": [
                "Cusum test of stability for gold shows high periods of instability during the early part of the graph (namely before 1980s).Then, the beta stabilises."
            ]
        },
        {
            "attachments": {},
            "cell_type": "markdown",
            "metadata": {},
            "source": [
                "# White Test of Heteroskedasticity for Gold"
            ]
        },
        {
            "cell_type": "code",
            "execution_count": 105,
            "metadata": {},
            "outputs": [],
            "source": [
                "from statsmodels.stats.diagnostic import het_white\n",
                "from statsmodels.compat import lzip\n",
                "from patsy import dmatrices"
            ]
        },
        {
            "cell_type": "code",
            "execution_count": 106,
            "metadata": {},
            "outputs": [
                {
                    "data": {
                        "text/plain": [
                            "[('Lagrange Multiplier statistic:', 36.866651106570274),\n",
                            " (\"LM test's p-value:\", 9.874348003656595e-09),\n",
                            " ('F-statistic:', 18.49335699862814),\n",
                            " (\"F-test's p-value:\", 9.608158442586967e-09)]"
                        ]
                    },
                    "execution_count": 106,
                    "metadata": {},
                    "output_type": "execute_result"
                }
            ],
            "source": [
                "expr = 'y1 ~ X'\n",
                "y1, X = dmatrices(expr, data, return_type='dataframe')\n",
                "olsr_results = smf.ols(expr, data).fit()\n",
                "keys = ['Lagrange Multiplier statistic:', 'LM test\\'s p-value:', 'F-statistic:', 'F-test\\'s p-value:']\n",
                "results = het_white(olsr_results.resid, X)\n",
                "lzip(keys, results)"
            ]
        },
        {
            "attachments": {},
            "cell_type": "markdown",
            "metadata": {},
            "source": [
                "LM test statistic is 36.87 and the corresponding p-value is 0\n",
                "\n",
                "F-stats = 18.49 and the corresponding p-value is 0\n",
                "\n",
                "Since the p-value of the both LM and F-stats is less than 0.05, we reject the null hypothesis that there is no heteroskedasticity in the residuals. It infers that the heteroskedasticity exists and the standard errors need to be corrected."
            ]
        },
        {
            "attachments": {},
            "cell_type": "markdown",
            "metadata": {},
            "source": [
                "# Breusch-Godfrey LM test for Gold"
            ]
        },
        {
            "cell_type": "code",
            "execution_count": 107,
            "metadata": {},
            "outputs": [
                {
                    "name": "stdout",
                    "output_type": "stream",
                    "text": "(14.058774886495657, 0.0008854740175917412, 7.036171882380294, 0.0008836668869260258)\n"
                }
            ],
            "source": [
                "import statsmodels.stats.diagnostic as dg\n",
                "print (dg.acorr_breusch_godfrey(model, nlags= 2))"
            ]
        },
        {
            "attachments": {},
            "cell_type": "markdown",
            "metadata": {},
            "source": [
                "T-statistic of Chi-squared is 14.0588 and the corresponding p-value is 0.0009 \n",
                "\n",
                "F-statistic is 7.0362 and the corresponding p-value is 0.0009\n",
                "\n",
                "Since p-value is less than 0.05, we reject the null hypothesis, thus inferring there is some autocorrelation at order less than or equal to 2.0"
            ]
        },
        {
            "attachments": {},
            "cell_type": "markdown",
            "metadata": {},
            "source": [
                "# II. Plotting GE excess returns with market excess returns"
            ]
        },
        {
            "cell_type": "code",
            "execution_count": 108,
            "metadata": {},
            "outputs": [
                {
                    "data": {
                        "text/plain": [
                            "LinearRegression()"
                        ]
                    },
                    "execution_count": 108,
                    "metadata": {},
                    "output_type": "execute_result"
                }
            ],
            "source": [
                "%matplotlib inline\n",
                "reg = linear_model.LinearRegression()\n",
                "X =data[['R_p']]\n",
                "y =data['R_ge']\n",
                "reg.fit(X,y)"
            ]
        },
        {
            "cell_type": "code",
            "execution_count": 109,
            "metadata": {},
            "outputs": [
                {
                    "data": {
                        "text/plain": [
                            "[\u003cmatplotlib.lines.Line2D at 0x18397269b20\u003e]"
                        ]
                    },
                    "execution_count": 109,
                    "metadata": {},
                    "output_type": "execute_result"
                },
                {
                    "data": {
                        "image/png": "[encoded data removed]",
                        "text/plain": [
                            "\u003cFigure size 432x288 with 1 Axes\u003e"
                        ]
                    },
                    "metadata": {
                        "needs_background": "light"
                    },
                    "output_type": "display_data"
                }
            ],
            "source": [
                "plt.xlabel('Risk Premium')\n",
                "plt.ylabel('R_GE')\n",
                "plt.scatter(data.R_p,data.R_GE,color='green',marker='+')\n",
                "plt.plot(data.R_p,reg.predict(data[['R_p']]), color='red')\n",
                ""
            ]
        },
        {
            "attachments": {},
            "cell_type": "markdown",
            "metadata": {},
            "source": [
                "# Regressing GE excess return with market excess return"
            ]
        },
        {
            "cell_type": "code",
            "execution_count": 110,
            "metadata": {},
            "outputs": [
                {
                    "name": "stdout",
                    "output_type": "stream",
                    "text": "                            OLS Regression Results                            \n==============================================================================\nDep. Variable:                   R_ge   R-squared:                       0.564\nModel:                            OLS   Adj. R-squared:                  0.564\nMethod:                 Least Squares   F-statistic:                 1.351e+04\nDate:                Thu, 24 Jun 2021   Prob (F-statistic):               0.00\nTime:                        13:42:14   Log-Likelihood:                -15682.\nNo. Observations:               10436   AIC:                         3.137e+04\nDf Residuals:                   10434   BIC:                         3.138e+04\nDf Model:                           1                                         \nCovariance Type:            nonrobust                                         \n==============================================================================\n                 coef    std err          t      P\u003e|t|      [0.025      0.975]\n------------------------------------------------------------------------------\nconst         -0.0012      0.011     -0.114      0.909      -0.022       0.020\nR_p            1.1569      0.010    116.224      0.000       1.137       1.176\n==============================================================================\nOmnibus:                     2325.123   Durbin-Watson:                   1.995\nProb(Omnibus):                  0.000   Jarque-Bera (JB):           109234.319\nSkew:                           0.109   Prob(JB):                         0.00\nKurtosis:                      18.848   Cond. No.                         1.07\n==============================================================================\n\nNotes:\n[1] Standard Errors assume that the covariance matrix of the errors is correctly specified.\n"
                }
            ],
            "source": [
                "#model with intercept\n",
                "X =sm.add_constant(X)\n",
                "model_1 = sm.OLS(y,X).fit()\n",
                "predictions = model_1.predict(X)\n",
                "j= (model_1.summary())\n",
                "print(j)"
            ]
        },
        {
            "attachments": {},
            "cell_type": "markdown",
            "metadata": {},
            "source": [
                "DW-stats of 1.995 is close to 2.0, implying that there is no serial correlation.\n",
                "\n",
                "Since p-value of the beta coefficient is less than 0.05, we reject the null hypothesis that beta is zero.\n",
                "\n",
                "The CAPM equation for GE can be written as follows:\n",
                "\n",
                "$R_ge = 1.1569*R_p + Rf$ \n",
                "\n",
                "where $R_ge$ is the return from GE stock, $R_p = Rm-Rf$ is the market risk premium and Rf is the risk free rate of return \n",
                "\n",
                "If we want to replicate the returns from GE, we can rearrange the above equation:\n",
                "\n",
                "$R_ge = 1.1569*Rm + (1-1.1569)*Rf$\n",
                "\n",
                "$\\Rightarrow$ We can buy 1.1569 of market portfolio (i.e: S\u0026P500 index fund) and then short 0.1569 T-Bill."
            ]
        },
        {
            "attachments": {},
            "cell_type": "markdown",
            "metadata": {},
            "source": [
                "# Residual Plots for GE"
            ]
        },
        {
            "cell_type": "code",
            "execution_count": 111,
            "metadata": {},
            "outputs": [
                {
                    "name": "stderr",
                    "output_type": "stream",
                    "text": "C:\\Users\\rluck\\anaconda3\\lib\\site-packages\\seaborn\\distributions.py:2557: FutureWarning: `distplot` is a deprecated function and will be removed in a future version. Please adapt your code to use either `displot` (a figure-level function with similar flexibility) or `histplot` (an axes-level function for histograms).\n  warnings.warn(msg, FutureWarning)\n"
                },
                {
                    "data": {
                        "text/plain": [
                            "\u003cAxesSubplot:ylabel='Density'\u003e"
                        ]
                    },
                    "execution_count": 111,
                    "metadata": {},
                    "output_type": "execute_result"
                },
                {
                    "data": {
                        "image/png": "[encoded data removed]",
                        "text/plain": [
                            "\u003cFigure size 432x288 with 1 Axes\u003e"
                        ]
                    },
                    "metadata": {
                        "needs_background": "light"
                    },
                    "output_type": "display_data"
                }
            ],
            "source": [
                "residuals = model_1.resid\n",
                "import seaborn as sns\n",
                "sns.distplot(residuals,hist=True, kde=True, bins=int(120), color= 'darkblue',hist_kws={'edgecolor':'black'})"
            ]
        },
        {
            "cell_type": "code",
            "execution_count": 112,
            "metadata": {},
            "outputs": [
                {
                    "data": {
                        "text/plain": [
                            "Jarque_beraResult(statistic=109234.31887176927, pvalue=0.0)"
                        ]
                    },
                    "execution_count": 112,
                    "metadata": {},
                    "output_type": "execute_result"
                }
            ],
            "source": [
                "from scipy import stats\n",
                "JB_GE= stats.jarque_bera(residuals)\n",
                "JB_GE"
            ]
        },
        {
            "attachments": {},
            "cell_type": "markdown",
            "metadata": {},
            "source": [
                "The plot and JB test (p-value \u003c0.05) rejects the null hypothesis of normality. It is clearly a non-normal distribution."
            ]
        },
        {
            "cell_type": "code",
            "execution_count": 113,
            "metadata": {},
            "outputs": [
                {
                    "name": "stderr",
                    "output_type": "stream",
                    "text": "C:\\Users\\rluck\\anaconda3\\lib\\site-packages\\statsmodels\\tsa\\base\\tsa_model.py:578: ValueWarning: An unsupported index was provided and will be ignored when e.g. forecasting.\n  warnings.warn('An unsupported index was provided and will be'\n"
                },
                {
                    "data": {
                        "image/png": "[encoded data removed]",
                        "text/plain": [
                            "\u003cFigure size 720x432 with 1 Axes\u003e"
                        ]
                    },
                    "metadata": {
                        "needs_background": "light"
                    },
                    "output_type": "display_data"
                }
            ],
            "source": [
                "endog = data.R_ge\n",
                "Rp = data.R_p\n",
                "exog = sm.add_constant(Rp)\n",
                "mod = sm.RecursiveLS(endog,exog)\n",
                "res_1 = mod.fit()\n",
                "fig = res_1.plot_cusum(figsize=(10,6));"
            ]
        },
        {
            "attachments": {},
            "cell_type": "markdown",
            "metadata": {},
            "source": [
                "Cusum test of stability for GE shows stability of beta as it is within the 5% significance level band."
            ]
        },
        {
            "attachments": {},
            "cell_type": "markdown",
            "metadata": {},
            "source": [
                "# White Test of Heteroskedasticity for GE"
            ]
        },
        {
            "cell_type": "code",
            "execution_count": 114,
            "metadata": {},
            "outputs": [
                {
                    "data": {
                        "text/plain": [
                            "[('Lagrange Multiplier statistic:', 600.7119211665138),\n",
                            " (\"LM test's p-value:\", 3.606315445696676e-131),\n",
                            " ('F-statistic:', 318.60924780728743),\n",
                            " (\"F-test's p-value:\", 4.9073934718673876e-135)]"
                        ]
                    },
                    "execution_count": 114,
                    "metadata": {},
                    "output_type": "execute_result"
                }
            ],
            "source": [
                "expr = 'y ~ X'\n",
                "y, X = dmatrices(expr, data, return_type='dataframe')\n",
                "olsr_results = smf.ols(expr, data).fit()\n",
                "keys = ['Lagrange Multiplier statistic:', 'LM test\\'s p-value:', 'F-statistic:', 'F-test\\'s p-value:']\n",
                "results = het_white(olsr_results.resid, X)\n",
                "lzip(keys, results)"
            ]
        },
        {
            "attachments": {},
            "cell_type": "markdown",
            "metadata": {},
            "source": [
                "LM test statistic is 600.72 and the corresponding p-value is 0\n",
                "\n",
                "F-stats = 318.61 and the corresponding p-value is 0\n",
                "\n",
                "Since the p-value of the both LM and F-stats is less than 0.05, we reject the null hypothesis that there is no heteroskedasticity in the residuals. It infers that the heteroskedasticity exists and the standard errors need to be corrected."
            ]
        },
        {
            "cell_type": "code",
            "execution_count": 115,
            "metadata": {},
            "outputs": [
                {
                    "name": "stdout",
                    "output_type": "stream",
                    "text": "(5.174836714176367, 0.07521396525512013, 2.587709781212114, 0.07524031416320724)\n"
                }
            ],
            "source": [
                "print (dg.acorr_breusch_godfrey(model_1, nlags= 2))"
            ]
        },
        {
            "attachments": {},
            "cell_type": "markdown",
            "metadata": {},
            "source": [
                "T-statistic of Chi-squared = 5.1748 and the corresponding p-value = 0.075. \n",
                "\n",
                "F-statistics = 2.5877 and the corresponding p-value = 0.075\n",
                "\n",
                "Since p-value exceeds 0.05, we fail to reject the null hypothesis, thus inferring there is no autocorrelation at order less than or equal to 2.0"
            ]
        },
        {
            "cell_type": "code",
            "execution_count": 0,
            "metadata": {},
            "outputs": [],
            "source": [
                ""
            ]
        },
        {
            "attachments": {},
            "cell_type": "markdown",
            "metadata": {},
            "source": [
                "# Extra: Correlation matrix between returns of gold, GE and market"
            ]
        },
        {
            "cell_type": "code",
            "execution_count": 116,
            "metadata": {},
            "outputs": [
                {
                    "data": {
                        "image/png": "[encoded data removed]",
                        "text/plain": [
                            "\u003cFigure size 960x800 with 2 Axes\u003e"
                        ]
                    },
                    "metadata": {
                        "needs_background": "light"
                    },
                    "output_type": "display_data"
                }
            ],
            "source": [
                "import seaborn as sns\n",
                "import pandas as pd\n",
                "# Import Dataset\n",
                "data = pd.read_csv(\"C:\\\\Users\\\\rluck\\\\OneDrive\\\\capm1.csv\", usecols=['R_gold','R_m', 'R_GE'])\n",
                "\n",
                "# Plot\n",
                "plt.figure(figsize=(12,10), dpi= 80)\n",
                "sns.heatmap(data.corr(), xticklabels=data.corr().columns, yticklabels=data.corr().columns, cmap='RdYlGn', center=0, annot=True)\n",
                "\n",
                "# Decorations\n",
                "plt.title('Correlogram of returns', fontsize=22)\n",
                "plt.xticks(fontsize=12)\n",
                "plt.yticks(fontsize=12)\n",
                "plt.show()"
            ]
        },
        {
            "cell_type": "code",
            "execution_count": 0,
            "metadata": {},
            "outputs": [],
            "source": [
                ""
            ]
        }
    ]
}
